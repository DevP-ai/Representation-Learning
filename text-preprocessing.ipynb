{
 "cells": [
  {
   "cell_type": "code",
   "execution_count": 1,
   "id": "8a831b68",
   "metadata": {
    "_cell_guid": "b1076dfc-b9ad-4769-8c92-a6c4dae69d19",
    "_uuid": "8f2839f25d086af736a60e9eeb907d3b93b6e0e5",
    "execution": {
     "iopub.execute_input": "2022-12-17T12:54:50.698807Z",
     "iopub.status.busy": "2022-12-17T12:54:50.697733Z",
     "iopub.status.idle": "2022-12-17T12:54:50.751070Z",
     "shell.execute_reply": "2022-12-17T12:54:50.749982Z"
    },
    "papermill": {
     "duration": 0.068926,
     "end_time": "2022-12-17T12:54:50.754234",
     "exception": false,
     "start_time": "2022-12-17T12:54:50.685308",
     "status": "completed"
    },
    "tags": []
   },
   "outputs": [
    {
     "name": "stdout",
     "output_type": "stream",
     "text": [
      "/kaggle/input/tweeter-hate-speech-sentiment-analysis/test_tweets.csv\n",
      "/kaggle/input/tweeter-hate-speech-sentiment-analysis/train_tweets.csv\n",
      "/kaggle/input/chatwords/chatwords.txt\n",
      "/kaggle/input/imdb-dataset-of-50k-movie-reviews/IMDB Dataset.csv\n"
     ]
    }
   ],
   "source": [
    "# This Python 3 environment comes with many helpful analytics libraries installed\n",
    "# It is defined by the kaggle/python Docker image: https://github.com/kaggle/docker-python\n",
    "# For example, here's several helpful packages to load\n",
    "\n",
    "import numpy as np # linear algebra\n",
    "import pandas as pd # data processing, CSV file I/O (e.g. pd.read_csv)\n",
    "\n",
    "# Input data files are available in the read-only \"../input/\" directory\n",
    "# For example, running this (by clicking run or pressing Shift+Enter) will list all files under the input directory\n",
    "\n",
    "import os\n",
    "for dirname, _, filenames in os.walk('/kaggle/input'):\n",
    "    for filename in filenames:\n",
    "        print(os.path.join(dirname, filename))\n",
    "\n",
    "# You can write up to 20GB to the current directory (/kaggle/working/) that gets preserved as output when you create a version using \"Save & Run All\" \n",
    "# You can also write temporary files to /kaggle/temp/, but they won't be saved outside of the current session"
   ]
  },
  {
   "cell_type": "code",
   "execution_count": 2,
   "id": "e7b14aca",
   "metadata": {
    "execution": {
     "iopub.execute_input": "2022-12-17T12:54:50.774720Z",
     "iopub.status.busy": "2022-12-17T12:54:50.774282Z",
     "iopub.status.idle": "2022-12-17T12:54:52.501241Z",
     "shell.execute_reply": "2022-12-17T12:54:52.498988Z"
    },
    "papermill": {
     "duration": 1.740437,
     "end_time": "2022-12-17T12:54:52.503981",
     "exception": false,
     "start_time": "2022-12-17T12:54:50.763544",
     "status": "completed"
    },
    "tags": []
   },
   "outputs": [
    {
     "data": {
      "text/html": [
       "<div>\n",
       "<style scoped>\n",
       "    .dataframe tbody tr th:only-of-type {\n",
       "        vertical-align: middle;\n",
       "    }\n",
       "\n",
       "    .dataframe tbody tr th {\n",
       "        vertical-align: top;\n",
       "    }\n",
       "\n",
       "    .dataframe thead th {\n",
       "        text-align: right;\n",
       "    }\n",
       "</style>\n",
       "<table border=\"1\" class=\"dataframe\">\n",
       "  <thead>\n",
       "    <tr style=\"text-align: right;\">\n",
       "      <th></th>\n",
       "      <th>review</th>\n",
       "      <th>sentiment</th>\n",
       "    </tr>\n",
       "  </thead>\n",
       "  <tbody>\n",
       "    <tr>\n",
       "      <th>0</th>\n",
       "      <td>One of the other reviewers has mentioned that ...</td>\n",
       "      <td>positive</td>\n",
       "    </tr>\n",
       "    <tr>\n",
       "      <th>1</th>\n",
       "      <td>A wonderful little production. &lt;br /&gt;&lt;br /&gt;The...</td>\n",
       "      <td>positive</td>\n",
       "    </tr>\n",
       "    <tr>\n",
       "      <th>2</th>\n",
       "      <td>I thought this was a wonderful way to spend ti...</td>\n",
       "      <td>positive</td>\n",
       "    </tr>\n",
       "    <tr>\n",
       "      <th>3</th>\n",
       "      <td>Basically there's a family where a little boy ...</td>\n",
       "      <td>negative</td>\n",
       "    </tr>\n",
       "    <tr>\n",
       "      <th>4</th>\n",
       "      <td>Petter Mattei's \"Love in the Time of Money\" is...</td>\n",
       "      <td>positive</td>\n",
       "    </tr>\n",
       "    <tr>\n",
       "      <th>5</th>\n",
       "      <td>Probably my all-time favorite movie, a story o...</td>\n",
       "      <td>positive</td>\n",
       "    </tr>\n",
       "    <tr>\n",
       "      <th>6</th>\n",
       "      <td>I sure would like to see a resurrection of a u...</td>\n",
       "      <td>positive</td>\n",
       "    </tr>\n",
       "    <tr>\n",
       "      <th>7</th>\n",
       "      <td>This show was an amazing, fresh &amp; innovative i...</td>\n",
       "      <td>negative</td>\n",
       "    </tr>\n",
       "    <tr>\n",
       "      <th>8</th>\n",
       "      <td>Encouraged by the positive comments about this...</td>\n",
       "      <td>negative</td>\n",
       "    </tr>\n",
       "    <tr>\n",
       "      <th>9</th>\n",
       "      <td>If you like original gut wrenching laughter yo...</td>\n",
       "      <td>positive</td>\n",
       "    </tr>\n",
       "  </tbody>\n",
       "</table>\n",
       "</div>"
      ],
      "text/plain": [
       "                                              review sentiment\n",
       "0  One of the other reviewers has mentioned that ...  positive\n",
       "1  A wonderful little production. <br /><br />The...  positive\n",
       "2  I thought this was a wonderful way to spend ti...  positive\n",
       "3  Basically there's a family where a little boy ...  negative\n",
       "4  Petter Mattei's \"Love in the Time of Money\" is...  positive\n",
       "5  Probably my all-time favorite movie, a story o...  positive\n",
       "6  I sure would like to see a resurrection of a u...  positive\n",
       "7  This show was an amazing, fresh & innovative i...  negative\n",
       "8  Encouraged by the positive comments about this...  negative\n",
       "9  If you like original gut wrenching laughter yo...  positive"
      ]
     },
     "execution_count": 2,
     "metadata": {},
     "output_type": "execute_result"
    }
   ],
   "source": [
    "df = pd.read_csv('/kaggle/input/imdb-dataset-of-50k-movie-reviews/IMDB Dataset.csv')\n",
    "df.head(10)"
   ]
  },
  {
   "cell_type": "markdown",
   "id": "b64f156a",
   "metadata": {
    "papermill": {
     "duration": 0.008723,
     "end_time": "2022-12-17T12:54:52.522065",
     "exception": false,
     "start_time": "2022-12-17T12:54:52.513342",
     "status": "completed"
    },
    "tags": []
   },
   "source": [
    "# **LowerCasing**"
   ]
  },
  {
   "cell_type": "code",
   "execution_count": 3,
   "id": "79dad95d",
   "metadata": {
    "execution": {
     "iopub.execute_input": "2022-12-17T12:54:52.542169Z",
     "iopub.status.busy": "2022-12-17T12:54:52.541666Z",
     "iopub.status.idle": "2022-12-17T12:54:52.552871Z",
     "shell.execute_reply": "2022-12-17T12:54:52.551951Z"
    },
    "papermill": {
     "duration": 0.024618,
     "end_time": "2022-12-17T12:54:52.555867",
     "exception": false,
     "start_time": "2022-12-17T12:54:52.531249",
     "status": "completed"
    },
    "tags": []
   },
   "outputs": [
    {
     "data": {
      "text/plain": [
       "'Petter Mattei\\'s \"Love in the Time of Money\" is a visually stunning film to watch. Mr. Mattei offers us a vivid portrait about human relations. This is a movie that seems to be telling us what money, power and success do to people in the different situations we encounter. <br /><br />This being a variation on the Arthur Schnitzler\\'s play about the same theme, the director transfers the action to the present time New York where all these different characters meet and connect. Each one is connected in one way, or another to the next person, but no one seems to know the previous point of contact. Stylishly, the film has a sophisticated luxurious look. We are taken to see how these people live and the world they live in their own habitat.<br /><br />The only thing one gets out of all these souls in the picture is the different stages of loneliness each one inhabits. A big city is not exactly the best place in which human relations find sincere fulfillment, as one discerns is the case with most of the people we encounter.<br /><br />The acting is good under Mr. Mattei\\'s direction. Steve Buscemi, Rosario Dawson, Carol Kane, Michael Imperioli, Adrian Grenier, and the rest of the talented cast, make these characters come alive.<br /><br />We wish Mr. Mattei good luck and await anxiously for his next work.'"
      ]
     },
     "execution_count": 3,
     "metadata": {},
     "output_type": "execute_result"
    }
   ],
   "source": [
    "df['review'][4]"
   ]
  },
  {
   "cell_type": "code",
   "execution_count": 4,
   "id": "e9ddc7ed",
   "metadata": {
    "execution": {
     "iopub.execute_input": "2022-12-17T12:54:52.582252Z",
     "iopub.status.busy": "2022-12-17T12:54:52.580934Z",
     "iopub.status.idle": "2022-12-17T12:54:52.588315Z",
     "shell.execute_reply": "2022-12-17T12:54:52.587264Z"
    },
    "papermill": {
     "duration": 0.020633,
     "end_time": "2022-12-17T12:54:52.590912",
     "exception": false,
     "start_time": "2022-12-17T12:54:52.570279",
     "status": "completed"
    },
    "tags": []
   },
   "outputs": [
    {
     "data": {
      "text/plain": [
       "'petter mattei\\'s \"love in the time of money\" is a visually stunning film to watch. mr. mattei offers us a vivid portrait about human relations. this is a movie that seems to be telling us what money, power and success do to people in the different situations we encounter. <br /><br />this being a variation on the arthur schnitzler\\'s play about the same theme, the director transfers the action to the present time new york where all these different characters meet and connect. each one is connected in one way, or another to the next person, but no one seems to know the previous point of contact. stylishly, the film has a sophisticated luxurious look. we are taken to see how these people live and the world they live in their own habitat.<br /><br />the only thing one gets out of all these souls in the picture is the different stages of loneliness each one inhabits. a big city is not exactly the best place in which human relations find sincere fulfillment, as one discerns is the case with most of the people we encounter.<br /><br />the acting is good under mr. mattei\\'s direction. steve buscemi, rosario dawson, carol kane, michael imperioli, adrian grenier, and the rest of the talented cast, make these characters come alive.<br /><br />we wish mr. mattei good luck and await anxiously for his next work.'"
      ]
     },
     "execution_count": 4,
     "metadata": {},
     "output_type": "execute_result"
    }
   ],
   "source": [
    "df['review'][4].lower()"
   ]
  },
  {
   "cell_type": "code",
   "execution_count": 5,
   "id": "22eec47e",
   "metadata": {
    "execution": {
     "iopub.execute_input": "2022-12-17T12:54:52.611528Z",
     "iopub.status.busy": "2022-12-17T12:54:52.611098Z",
     "iopub.status.idle": "2022-12-17T12:54:52.621604Z",
     "shell.execute_reply": "2022-12-17T12:54:52.620538Z"
    },
    "papermill": {
     "duration": 0.023384,
     "end_time": "2022-12-17T12:54:52.623914",
     "exception": false,
     "start_time": "2022-12-17T12:54:52.600530",
     "status": "completed"
    },
    "tags": []
   },
   "outputs": [
    {
     "data": {
      "text/plain": [
       "(50000, 2)"
      ]
     },
     "execution_count": 5,
     "metadata": {},
     "output_type": "execute_result"
    }
   ],
   "source": [
    "df.shape"
   ]
  },
  {
   "cell_type": "code",
   "execution_count": 6,
   "id": "d2ed3a59",
   "metadata": {
    "execution": {
     "iopub.execute_input": "2022-12-17T12:54:52.646066Z",
     "iopub.status.busy": "2022-12-17T12:54:52.645272Z",
     "iopub.status.idle": "2022-12-17T12:54:52.816604Z",
     "shell.execute_reply": "2022-12-17T12:54:52.815606Z"
    },
    "papermill": {
     "duration": 0.185727,
     "end_time": "2022-12-17T12:54:52.819367",
     "exception": false,
     "start_time": "2022-12-17T12:54:52.633640",
     "status": "completed"
    },
    "tags": []
   },
   "outputs": [],
   "source": [
    "df['review']=df['review'].str.lower()"
   ]
  },
  {
   "cell_type": "code",
   "execution_count": 7,
   "id": "23dc321a",
   "metadata": {
    "execution": {
     "iopub.execute_input": "2022-12-17T12:54:52.841433Z",
     "iopub.status.busy": "2022-12-17T12:54:52.840673Z",
     "iopub.status.idle": "2022-12-17T12:54:52.850048Z",
     "shell.execute_reply": "2022-12-17T12:54:52.848753Z"
    },
    "papermill": {
     "duration": 0.023625,
     "end_time": "2022-12-17T12:54:52.853020",
     "exception": false,
     "start_time": "2022-12-17T12:54:52.829395",
     "status": "completed"
    },
    "tags": []
   },
   "outputs": [
    {
     "data": {
      "text/plain": [
       "0        one of the other reviewers has mentioned that ...\n",
       "1        a wonderful little production. <br /><br />the...\n",
       "2        i thought this was a wonderful way to spend ti...\n",
       "3        basically there's a family where a little boy ...\n",
       "4        petter mattei's \"love in the time of money\" is...\n",
       "                               ...                        \n",
       "49995    i thought this movie did a down right good job...\n",
       "49996    bad plot, bad dialogue, bad acting, idiotic di...\n",
       "49997    i am a catholic taught in parochial elementary...\n",
       "49998    i'm going to have to disagree with the previou...\n",
       "49999    no one expects the star trek movies to be high...\n",
       "Name: review, Length: 50000, dtype: object"
      ]
     },
     "execution_count": 7,
     "metadata": {},
     "output_type": "execute_result"
    }
   ],
   "source": [
    "df['review']"
   ]
  },
  {
   "cell_type": "markdown",
   "id": "a5b07549",
   "metadata": {
    "papermill": {
     "duration": 0.009391,
     "end_time": "2022-12-17T12:54:52.872227",
     "exception": false,
     "start_time": "2022-12-17T12:54:52.862836",
     "status": "completed"
    },
    "tags": []
   },
   "source": [
    "# **Remove HTML Tags**"
   ]
  },
  {
   "cell_type": "code",
   "execution_count": 8,
   "id": "eef996a7",
   "metadata": {
    "execution": {
     "iopub.execute_input": "2022-12-17T12:54:52.893740Z",
     "iopub.status.busy": "2022-12-17T12:54:52.893267Z",
     "iopub.status.idle": "2022-12-17T12:54:52.899705Z",
     "shell.execute_reply": "2022-12-17T12:54:52.898553Z"
    },
    "papermill": {
     "duration": 0.020551,
     "end_time": "2022-12-17T12:54:52.902453",
     "exception": false,
     "start_time": "2022-12-17T12:54:52.881902",
     "status": "completed"
    },
    "tags": []
   },
   "outputs": [],
   "source": [
    "import re\n",
    "\n",
    "def remove_html(text):\n",
    "    pattern=re.compile('<.*?>')\n",
    "    return pattern.sub('r',text)"
   ]
  },
  {
   "cell_type": "code",
   "execution_count": 9,
   "id": "11556230",
   "metadata": {
    "execution": {
     "iopub.execute_input": "2022-12-17T12:54:52.925023Z",
     "iopub.status.busy": "2022-12-17T12:54:52.924119Z",
     "iopub.status.idle": "2022-12-17T12:54:52.933037Z",
     "shell.execute_reply": "2022-12-17T12:54:52.931906Z"
    },
    "papermill": {
     "duration": 0.023223,
     "end_time": "2022-12-17T12:54:52.935644",
     "exception": false,
     "start_time": "2022-12-17T12:54:52.912421",
     "status": "completed"
    },
    "tags": []
   },
   "outputs": [
    {
     "data": {
      "text/plain": [
       "'petter mattei\\'s \"love in the time of money\" is a visually stunning film to watch. mr. mattei offers us a vivid portrait about human relations. this is a movie that seems to be telling us what money, power and success do to people in the different situations we encounter. rrthis being a variation on the arthur schnitzler\\'s play about the same theme, the director transfers the action to the present time new york where all these different characters meet and connect. each one is connected in one way, or another to the next person, but no one seems to know the previous point of contact. stylishly, the film has a sophisticated luxurious look. we are taken to see how these people live and the world they live in their own habitat.rrthe only thing one gets out of all these souls in the picture is the different stages of loneliness each one inhabits. a big city is not exactly the best place in which human relations find sincere fulfillment, as one discerns is the case with most of the people we encounter.rrthe acting is good under mr. mattei\\'s direction. steve buscemi, rosario dawson, carol kane, michael imperioli, adrian grenier, and the rest of the talented cast, make these characters come alive.rrwe wish mr. mattei good luck and await anxiously for his next work.'"
      ]
     },
     "execution_count": 9,
     "metadata": {},
     "output_type": "execute_result"
    }
   ],
   "source": [
    "text='petter mattei\\'s \"love in the time of money\" is a visually stunning film to watch. mr. mattei offers us a vivid portrait about human relations. this is a movie that seems to be telling us what money, power and success do to people in the different situations we encounter. <br /><br />this being a variation on the arthur schnitzler\\'s play about the same theme, the director transfers the action to the present time new york where all these different characters meet and connect. each one is connected in one way, or another to the next person, but no one seems to know the previous point of contact. stylishly, the film has a sophisticated luxurious look. we are taken to see how these people live and the world they live in their own habitat.<br /><br />the only thing one gets out of all these souls in the picture is the different stages of loneliness each one inhabits. a big city is not exactly the best place in which human relations find sincere fulfillment, as one discerns is the case with most of the people we encounter.<br /><br />the acting is good under mr. mattei\\'s direction. steve buscemi, rosario dawson, carol kane, michael imperioli, adrian grenier, and the rest of the talented cast, make these characters come alive.<br /><br />we wish mr. mattei good luck and await anxiously for his next work.'\n",
    "remove_html(text)"
   ]
  },
  {
   "cell_type": "code",
   "execution_count": 10,
   "id": "74c1730c",
   "metadata": {
    "execution": {
     "iopub.execute_input": "2022-12-17T12:54:52.958457Z",
     "iopub.status.busy": "2022-12-17T12:54:52.957595Z",
     "iopub.status.idle": "2022-12-17T12:54:53.152531Z",
     "shell.execute_reply": "2022-12-17T12:54:53.151502Z"
    },
    "papermill": {
     "duration": 0.209903,
     "end_time": "2022-12-17T12:54:53.155506",
     "exception": false,
     "start_time": "2022-12-17T12:54:52.945603",
     "status": "completed"
    },
    "tags": []
   },
   "outputs": [],
   "source": [
    "df['review']=df[\"review\"].apply(remove_html)"
   ]
  },
  {
   "cell_type": "code",
   "execution_count": 11,
   "id": "7b6626fc",
   "metadata": {
    "execution": {
     "iopub.execute_input": "2022-12-17T12:54:53.178430Z",
     "iopub.status.busy": "2022-12-17T12:54:53.177960Z",
     "iopub.status.idle": "2022-12-17T12:54:53.189130Z",
     "shell.execute_reply": "2022-12-17T12:54:53.187746Z"
    },
    "papermill": {
     "duration": 0.026396,
     "end_time": "2022-12-17T12:54:53.191731",
     "exception": false,
     "start_time": "2022-12-17T12:54:53.165335",
     "status": "completed"
    },
    "tags": []
   },
   "outputs": [
    {
     "data": {
      "text/plain": [
       "0        one of the other reviewers has mentioned that ...\n",
       "1        a wonderful little production. rrthe filming t...\n",
       "2        i thought this was a wonderful way to spend ti...\n",
       "3        basically there's a family where a little boy ...\n",
       "4        petter mattei's \"love in the time of money\" is...\n",
       "                               ...                        \n",
       "49995    i thought this movie did a down right good job...\n",
       "49996    bad plot, bad dialogue, bad acting, idiotic di...\n",
       "49997    i am a catholic taught in parochial elementary...\n",
       "49998    i'm going to have to disagree with the previou...\n",
       "49999    no one expects the star trek movies to be high...\n",
       "Name: review, Length: 50000, dtype: object"
      ]
     },
     "execution_count": 11,
     "metadata": {},
     "output_type": "execute_result"
    }
   ],
   "source": [
    "df['review']"
   ]
  },
  {
   "cell_type": "code",
   "execution_count": 12,
   "id": "907fdf1d",
   "metadata": {
    "execution": {
     "iopub.execute_input": "2022-12-17T12:54:53.213799Z",
     "iopub.status.busy": "2022-12-17T12:54:53.213374Z",
     "iopub.status.idle": "2022-12-17T12:54:53.219423Z",
     "shell.execute_reply": "2022-12-17T12:54:53.218523Z"
    },
    "papermill": {
     "duration": 0.02068,
     "end_time": "2022-12-17T12:54:53.222446",
     "exception": false,
     "start_time": "2022-12-17T12:54:53.201766",
     "status": "completed"
    },
    "tags": []
   },
   "outputs": [
    {
     "name": "stdout",
     "output_type": "stream",
     "text": [
      "checkout new series https://realpython.com/python-keyerror/#:~:text=A%20Python%20KeyError%20exception%20is,set%20of%20values%20to%20another.\n",
      "Click to find reges https://regex101.com/\n",
      "Github Repository https://github.com/ashishpatel26/500-AI-Machine-learning-Deep-learning-Computer-vision-NLP-Projects-with-code\n"
     ]
    }
   ],
   "source": [
    "t1='checkout new series https://realpython.com/python-keyerror/#:~:text=A%20Python%20KeyError%20exception%20is,set%20of%20values%20to%20another.'\n",
    "t2='Click to find reges https://regex101.com/'\n",
    "t3='Github Repository https://github.com/ashishpatel26/500-AI-Machine-learning-Deep-learning-Computer-vision-NLP-Projects-with-code'\n",
    "\n",
    "print(t1)\n",
    "print(t2)\n",
    "print(t3)"
   ]
  },
  {
   "cell_type": "code",
   "execution_count": 13,
   "id": "d3ce6bd7",
   "metadata": {
    "execution": {
     "iopub.execute_input": "2022-12-17T12:54:53.244995Z",
     "iopub.status.busy": "2022-12-17T12:54:53.244251Z",
     "iopub.status.idle": "2022-12-17T12:54:53.249625Z",
     "shell.execute_reply": "2022-12-17T12:54:53.248500Z"
    },
    "papermill": {
     "duration": 0.01949,
     "end_time": "2022-12-17T12:54:53.252037",
     "exception": false,
     "start_time": "2022-12-17T12:54:53.232547",
     "status": "completed"
    },
    "tags": []
   },
   "outputs": [],
   "source": [
    "def remove_url(text):\n",
    "    pattern=re.compile('https?://\\S+|www.\\.\\S+')\n",
    "    return pattern.sub(r'',text)"
   ]
  },
  {
   "cell_type": "code",
   "execution_count": 14,
   "id": "6fa81936",
   "metadata": {
    "execution": {
     "iopub.execute_input": "2022-12-17T12:54:53.274423Z",
     "iopub.status.busy": "2022-12-17T12:54:53.273881Z",
     "iopub.status.idle": "2022-12-17T12:54:53.281786Z",
     "shell.execute_reply": "2022-12-17T12:54:53.280600Z"
    },
    "papermill": {
     "duration": 0.022252,
     "end_time": "2022-12-17T12:54:53.284336",
     "exception": false,
     "start_time": "2022-12-17T12:54:53.262084",
     "status": "completed"
    },
    "tags": []
   },
   "outputs": [
    {
     "data": {
      "text/plain": [
       "'checkout new series '"
      ]
     },
     "execution_count": 14,
     "metadata": {},
     "output_type": "execute_result"
    }
   ],
   "source": [
    "remove_url(t1)"
   ]
  },
  {
   "cell_type": "code",
   "execution_count": 15,
   "id": "173582aa",
   "metadata": {
    "execution": {
     "iopub.execute_input": "2022-12-17T12:54:53.307234Z",
     "iopub.status.busy": "2022-12-17T12:54:53.306116Z",
     "iopub.status.idle": "2022-12-17T12:54:53.313921Z",
     "shell.execute_reply": "2022-12-17T12:54:53.312725Z"
    },
    "papermill": {
     "duration": 0.021905,
     "end_time": "2022-12-17T12:54:53.316426",
     "exception": false,
     "start_time": "2022-12-17T12:54:53.294521",
     "status": "completed"
    },
    "tags": []
   },
   "outputs": [
    {
     "data": {
      "text/plain": [
       "'Click to find reges '"
      ]
     },
     "execution_count": 15,
     "metadata": {},
     "output_type": "execute_result"
    }
   ],
   "source": [
    "remove_url(t2)"
   ]
  },
  {
   "cell_type": "code",
   "execution_count": 16,
   "id": "a2f109b2",
   "metadata": {
    "execution": {
     "iopub.execute_input": "2022-12-17T12:54:53.339503Z",
     "iopub.status.busy": "2022-12-17T12:54:53.338161Z",
     "iopub.status.idle": "2022-12-17T12:54:53.345387Z",
     "shell.execute_reply": "2022-12-17T12:54:53.344311Z"
    },
    "papermill": {
     "duration": 0.021067,
     "end_time": "2022-12-17T12:54:53.347730",
     "exception": false,
     "start_time": "2022-12-17T12:54:53.326663",
     "status": "completed"
    },
    "tags": []
   },
   "outputs": [
    {
     "data": {
      "text/plain": [
       "'Github Repository '"
      ]
     },
     "execution_count": 16,
     "metadata": {},
     "output_type": "execute_result"
    }
   ],
   "source": [
    "remove_url(t3)"
   ]
  },
  {
   "cell_type": "markdown",
   "id": "9166f7b4",
   "metadata": {
    "papermill": {
     "duration": 0.009893,
     "end_time": "2022-12-17T12:54:53.368012",
     "exception": false,
     "start_time": "2022-12-17T12:54:53.358119",
     "status": "completed"
    },
    "tags": []
   },
   "source": [
    "# **Remove Punctuation**"
   ]
  },
  {
   "cell_type": "code",
   "execution_count": 17,
   "id": "ba13270e",
   "metadata": {
    "execution": {
     "iopub.execute_input": "2022-12-17T12:54:53.391215Z",
     "iopub.status.busy": "2022-12-17T12:54:53.390259Z",
     "iopub.status.idle": "2022-12-17T12:54:53.396520Z",
     "shell.execute_reply": "2022-12-17T12:54:53.395501Z"
    },
    "papermill": {
     "duration": 0.020394,
     "end_time": "2022-12-17T12:54:53.398872",
     "exception": false,
     "start_time": "2022-12-17T12:54:53.378478",
     "status": "completed"
    },
    "tags": []
   },
   "outputs": [
    {
     "data": {
      "text/plain": [
       "'!\"#$%&\\'()*+,-./:;<=>?@[\\\\]^_`{|}~'"
      ]
     },
     "execution_count": 17,
     "metadata": {},
     "output_type": "execute_result"
    }
   ],
   "source": [
    "import string,time\n",
    "string.punctuation"
   ]
  },
  {
   "cell_type": "code",
   "execution_count": 18,
   "id": "42ba6322",
   "metadata": {
    "execution": {
     "iopub.execute_input": "2022-12-17T12:54:53.422882Z",
     "iopub.status.busy": "2022-12-17T12:54:53.422352Z",
     "iopub.status.idle": "2022-12-17T12:54:53.427967Z",
     "shell.execute_reply": "2022-12-17T12:54:53.426494Z"
    },
    "papermill": {
     "duration": 0.021174,
     "end_time": "2022-12-17T12:54:53.430675",
     "exception": false,
     "start_time": "2022-12-17T12:54:53.409501",
     "status": "completed"
    },
    "tags": []
   },
   "outputs": [],
   "source": [
    "pnc=string.punctuation"
   ]
  },
  {
   "cell_type": "code",
   "execution_count": 19,
   "id": "b75a7b96",
   "metadata": {
    "execution": {
     "iopub.execute_input": "2022-12-17T12:54:53.454075Z",
     "iopub.status.busy": "2022-12-17T12:54:53.453418Z",
     "iopub.status.idle": "2022-12-17T12:54:53.458904Z",
     "shell.execute_reply": "2022-12-17T12:54:53.457611Z"
    },
    "papermill": {
     "duration": 0.020689,
     "end_time": "2022-12-17T12:54:53.461937",
     "exception": false,
     "start_time": "2022-12-17T12:54:53.441248",
     "status": "completed"
    },
    "tags": []
   },
   "outputs": [],
   "source": [
    "def remove_punc(text):\n",
    "    for char in pnc:\n",
    "        text=text.replace(char,' ')\n",
    "    return text"
   ]
  },
  {
   "cell_type": "code",
   "execution_count": 20,
   "id": "1713b2ce",
   "metadata": {
    "execution": {
     "iopub.execute_input": "2022-12-17T12:54:53.485189Z",
     "iopub.status.busy": "2022-12-17T12:54:53.484693Z",
     "iopub.status.idle": "2022-12-17T12:54:53.491825Z",
     "shell.execute_reply": "2022-12-17T12:54:53.490196Z"
    },
    "papermill": {
     "duration": 0.021728,
     "end_time": "2022-12-17T12:54:53.494463",
     "exception": false,
     "start_time": "2022-12-17T12:54:53.472735",
     "status": "completed"
    },
    "tags": []
   },
   "outputs": [
    {
     "name": "stdout",
     "output_type": "stream",
     "text": [
      "Ugh  Why are you yelling at me \n"
     ]
    }
   ],
   "source": [
    "text='Ugh! Why are you yelling at me?'\n",
    "print(remove_punc(text))"
   ]
  },
  {
   "cell_type": "code",
   "execution_count": 21,
   "id": "105f3f8f",
   "metadata": {
    "execution": {
     "iopub.execute_input": "2022-12-17T12:54:53.517792Z",
     "iopub.status.busy": "2022-12-17T12:54:53.517361Z",
     "iopub.status.idle": "2022-12-17T12:54:53.524128Z",
     "shell.execute_reply": "2022-12-17T12:54:53.522556Z"
    },
    "papermill": {
     "duration": 0.022581,
     "end_time": "2022-12-17T12:54:53.527747",
     "exception": false,
     "start_time": "2022-12-17T12:54:53.505166",
     "status": "completed"
    },
    "tags": []
   },
   "outputs": [
    {
     "name": "stdout",
     "output_type": "stream",
     "text": [
      "Ugh  Why are you yelling at me \n"
     ]
    }
   ],
   "source": [
    "start=time.time() \n",
    "print(remove_punc(text))\n",
    "time1=time.time()-start"
   ]
  },
  {
   "cell_type": "code",
   "execution_count": 22,
   "id": "6c1b957a",
   "metadata": {
    "execution": {
     "iopub.execute_input": "2022-12-17T12:54:53.552918Z",
     "iopub.status.busy": "2022-12-17T12:54:53.552477Z",
     "iopub.status.idle": "2022-12-17T12:54:53.558930Z",
     "shell.execute_reply": "2022-12-17T12:54:53.557555Z"
    },
    "papermill": {
     "duration": 0.021451,
     "end_time": "2022-12-17T12:54:53.561571",
     "exception": false,
     "start_time": "2022-12-17T12:54:53.540120",
     "status": "completed"
    },
    "tags": []
   },
   "outputs": [
    {
     "name": "stdout",
     "output_type": "stream",
     "text": [
      "8.034706115722656\n"
     ]
    }
   ],
   "source": [
    "print(time1*50000)"
   ]
  },
  {
   "cell_type": "code",
   "execution_count": 23,
   "id": "43fa9136",
   "metadata": {
    "execution": {
     "iopub.execute_input": "2022-12-17T12:54:53.585062Z",
     "iopub.status.busy": "2022-12-17T12:54:53.584630Z",
     "iopub.status.idle": "2022-12-17T12:54:53.590771Z",
     "shell.execute_reply": "2022-12-17T12:54:53.589391Z"
    },
    "papermill": {
     "duration": 0.021447,
     "end_time": "2022-12-17T12:54:53.593745",
     "exception": false,
     "start_time": "2022-12-17T12:54:53.572298",
     "status": "completed"
    },
    "tags": []
   },
   "outputs": [],
   "source": [
    "def rm_pn(text):\n",
    "    return text.translate(str.maketrans('','',pnc))"
   ]
  },
  {
   "cell_type": "code",
   "execution_count": 24,
   "id": "a660b14c",
   "metadata": {
    "execution": {
     "iopub.execute_input": "2022-12-17T12:54:53.617069Z",
     "iopub.status.busy": "2022-12-17T12:54:53.616649Z",
     "iopub.status.idle": "2022-12-17T12:54:53.623065Z",
     "shell.execute_reply": "2022-12-17T12:54:53.621869Z"
    },
    "papermill": {
     "duration": 0.021229,
     "end_time": "2022-12-17T12:54:53.625786",
     "exception": false,
     "start_time": "2022-12-17T12:54:53.604557",
     "status": "completed"
    },
    "tags": []
   },
   "outputs": [
    {
     "name": "stdout",
     "output_type": "stream",
     "text": [
      "Ugh Why are you yelling at me\n"
     ]
    }
   ],
   "source": [
    "start=time.time() \n",
    "print(rm_pn(text))\n",
    "time2=time.time()-start"
   ]
  },
  {
   "cell_type": "code",
   "execution_count": 25,
   "id": "3dd61640",
   "metadata": {
    "execution": {
     "iopub.execute_input": "2022-12-17T12:54:53.649121Z",
     "iopub.status.busy": "2022-12-17T12:54:53.648699Z",
     "iopub.status.idle": "2022-12-17T12:54:53.654852Z",
     "shell.execute_reply": "2022-12-17T12:54:53.653556Z"
    },
    "papermill": {
     "duration": 0.020819,
     "end_time": "2022-12-17T12:54:53.657527",
     "exception": false,
     "start_time": "2022-12-17T12:54:53.636708",
     "status": "completed"
    },
    "tags": []
   },
   "outputs": [
    {
     "name": "stdout",
     "output_type": "stream",
     "text": [
      "7.7724456787109375\n"
     ]
    }
   ],
   "source": [
    "print(time2*50000)"
   ]
  },
  {
   "cell_type": "code",
   "execution_count": 26,
   "id": "d2d353e4",
   "metadata": {
    "execution": {
     "iopub.execute_input": "2022-12-17T12:54:53.681074Z",
     "iopub.status.busy": "2022-12-17T12:54:53.680628Z",
     "iopub.status.idle": "2022-12-17T12:54:53.687730Z",
     "shell.execute_reply": "2022-12-17T12:54:53.686493Z"
    },
    "papermill": {
     "duration": 0.021958,
     "end_time": "2022-12-17T12:54:53.690292",
     "exception": false,
     "start_time": "2022-12-17T12:54:53.668334",
     "status": "completed"
    },
    "tags": []
   },
   "outputs": [
    {
     "name": "stdout",
     "output_type": "stream",
     "text": [
      "0.26226043701171875\n"
     ]
    }
   ],
   "source": [
    "print((time1-time2)*50000)"
   ]
  },
  {
   "cell_type": "markdown",
   "id": "3f6d3cfe",
   "metadata": {
    "papermill": {
     "duration": 0.010456,
     "end_time": "2022-12-17T12:54:53.711684",
     "exception": false,
     "start_time": "2022-12-17T12:54:53.701228",
     "status": "completed"
    },
    "tags": []
   },
   "source": [
    "# **Try In Dataset**"
   ]
  },
  {
   "cell_type": "code",
   "execution_count": 27,
   "id": "35d14105",
   "metadata": {
    "execution": {
     "iopub.execute_input": "2022-12-17T12:54:53.735651Z",
     "iopub.status.busy": "2022-12-17T12:54:53.735230Z",
     "iopub.status.idle": "2022-12-17T12:54:53.740978Z",
     "shell.execute_reply": "2022-12-17T12:54:53.739411Z"
    },
    "papermill": {
     "duration": 0.021215,
     "end_time": "2022-12-17T12:54:53.743840",
     "exception": false,
     "start_time": "2022-12-17T12:54:53.722625",
     "status": "completed"
    },
    "tags": []
   },
   "outputs": [],
   "source": [
    "import pandas as pd"
   ]
  },
  {
   "cell_type": "code",
   "execution_count": 28,
   "id": "091281fc",
   "metadata": {
    "execution": {
     "iopub.execute_input": "2022-12-17T12:54:53.768595Z",
     "iopub.status.busy": "2022-12-17T12:54:53.768163Z",
     "iopub.status.idle": "2022-12-17T12:54:53.877397Z",
     "shell.execute_reply": "2022-12-17T12:54:53.875973Z"
    },
    "papermill": {
     "duration": 0.125376,
     "end_time": "2022-12-17T12:54:53.880431",
     "exception": false,
     "start_time": "2022-12-17T12:54:53.755055",
     "status": "completed"
    },
    "tags": []
   },
   "outputs": [],
   "source": [
    "df=pd.read_csv('/kaggle/input/tweeter-hate-speech-sentiment-analysis/train_tweets.csv')"
   ]
  },
  {
   "cell_type": "code",
   "execution_count": 29,
   "id": "dc8530d0",
   "metadata": {
    "execution": {
     "iopub.execute_input": "2022-12-17T12:54:53.905787Z",
     "iopub.status.busy": "2022-12-17T12:54:53.904462Z",
     "iopub.status.idle": "2022-12-17T12:54:53.916852Z",
     "shell.execute_reply": "2022-12-17T12:54:53.915907Z"
    },
    "papermill": {
     "duration": 0.027887,
     "end_time": "2022-12-17T12:54:53.919409",
     "exception": false,
     "start_time": "2022-12-17T12:54:53.891522",
     "status": "completed"
    },
    "tags": []
   },
   "outputs": [
    {
     "data": {
      "text/html": [
       "<div>\n",
       "<style scoped>\n",
       "    .dataframe tbody tr th:only-of-type {\n",
       "        vertical-align: middle;\n",
       "    }\n",
       "\n",
       "    .dataframe tbody tr th {\n",
       "        vertical-align: top;\n",
       "    }\n",
       "\n",
       "    .dataframe thead th {\n",
       "        text-align: right;\n",
       "    }\n",
       "</style>\n",
       "<table border=\"1\" class=\"dataframe\">\n",
       "  <thead>\n",
       "    <tr style=\"text-align: right;\">\n",
       "      <th></th>\n",
       "      <th>id</th>\n",
       "      <th>label</th>\n",
       "      <th>tweet</th>\n",
       "    </tr>\n",
       "  </thead>\n",
       "  <tbody>\n",
       "    <tr>\n",
       "      <th>0</th>\n",
       "      <td>1</td>\n",
       "      <td>0</td>\n",
       "      <td>@user when a father is dysfunctional and is s...</td>\n",
       "    </tr>\n",
       "    <tr>\n",
       "      <th>1</th>\n",
       "      <td>2</td>\n",
       "      <td>0</td>\n",
       "      <td>@user @user thanks for #lyft credit i can't us...</td>\n",
       "    </tr>\n",
       "    <tr>\n",
       "      <th>2</th>\n",
       "      <td>3</td>\n",
       "      <td>0</td>\n",
       "      <td>bihday your majesty</td>\n",
       "    </tr>\n",
       "    <tr>\n",
       "      <th>3</th>\n",
       "      <td>4</td>\n",
       "      <td>0</td>\n",
       "      <td>#model   i love u take with u all the time in ...</td>\n",
       "    </tr>\n",
       "    <tr>\n",
       "      <th>4</th>\n",
       "      <td>5</td>\n",
       "      <td>0</td>\n",
       "      <td>factsguide: society now    #motivation</td>\n",
       "    </tr>\n",
       "  </tbody>\n",
       "</table>\n",
       "</div>"
      ],
      "text/plain": [
       "   id  label                                              tweet\n",
       "0   1      0   @user when a father is dysfunctional and is s...\n",
       "1   2      0  @user @user thanks for #lyft credit i can't us...\n",
       "2   3      0                                bihday your majesty\n",
       "3   4      0  #model   i love u take with u all the time in ...\n",
       "4   5      0             factsguide: society now    #motivation"
      ]
     },
     "execution_count": 29,
     "metadata": {},
     "output_type": "execute_result"
    }
   ],
   "source": [
    "df.head()"
   ]
  },
  {
   "cell_type": "code",
   "execution_count": 30,
   "id": "2f6b7e2b",
   "metadata": {
    "execution": {
     "iopub.execute_input": "2022-12-17T12:54:53.944335Z",
     "iopub.status.busy": "2022-12-17T12:54:53.942929Z",
     "iopub.status.idle": "2022-12-17T12:54:53.948019Z",
     "shell.execute_reply": "2022-12-17T12:54:53.947204Z"
    },
    "papermill": {
     "duration": 0.019973,
     "end_time": "2022-12-17T12:54:53.950640",
     "exception": false,
     "start_time": "2022-12-17T12:54:53.930667",
     "status": "completed"
    },
    "tags": []
   },
   "outputs": [],
   "source": [
    "import string\n",
    "exclude=string.punctuation"
   ]
  },
  {
   "cell_type": "code",
   "execution_count": 31,
   "id": "3cd5f6ce",
   "metadata": {
    "execution": {
     "iopub.execute_input": "2022-12-17T12:54:53.974996Z",
     "iopub.status.busy": "2022-12-17T12:54:53.974550Z",
     "iopub.status.idle": "2022-12-17T12:54:53.979502Z",
     "shell.execute_reply": "2022-12-17T12:54:53.978594Z"
    },
    "papermill": {
     "duration": 0.019678,
     "end_time": "2022-12-17T12:54:53.981957",
     "exception": false,
     "start_time": "2022-12-17T12:54:53.962279",
     "status": "completed"
    },
    "tags": []
   },
   "outputs": [],
   "source": [
    "def rem_pnc(text):\n",
    "    return text.translate(str.maketrans('','',exclude))"
   ]
  },
  {
   "cell_type": "code",
   "execution_count": 32,
   "id": "c99696f7",
   "metadata": {
    "execution": {
     "iopub.execute_input": "2022-12-17T12:54:54.006785Z",
     "iopub.status.busy": "2022-12-17T12:54:54.005883Z",
     "iopub.status.idle": "2022-12-17T12:54:54.234891Z",
     "shell.execute_reply": "2022-12-17T12:54:54.233597Z"
    },
    "papermill": {
     "duration": 0.245127,
     "end_time": "2022-12-17T12:54:54.238120",
     "exception": false,
     "start_time": "2022-12-17T12:54:53.992993",
     "status": "completed"
    },
    "tags": []
   },
   "outputs": [],
   "source": [
    "df['tweet']=df['tweet'].apply(rem_pnc)"
   ]
  },
  {
   "cell_type": "code",
   "execution_count": 33,
   "id": "10f10330",
   "metadata": {
    "execution": {
     "iopub.execute_input": "2022-12-17T12:54:54.262114Z",
     "iopub.status.busy": "2022-12-17T12:54:54.261635Z",
     "iopub.status.idle": "2022-12-17T12:54:54.274777Z",
     "shell.execute_reply": "2022-12-17T12:54:54.273520Z"
    },
    "papermill": {
     "duration": 0.028615,
     "end_time": "2022-12-17T12:54:54.277865",
     "exception": false,
     "start_time": "2022-12-17T12:54:54.249250",
     "status": "completed"
    },
    "tags": []
   },
   "outputs": [
    {
     "data": {
      "text/html": [
       "<div>\n",
       "<style scoped>\n",
       "    .dataframe tbody tr th:only-of-type {\n",
       "        vertical-align: middle;\n",
       "    }\n",
       "\n",
       "    .dataframe tbody tr th {\n",
       "        vertical-align: top;\n",
       "    }\n",
       "\n",
       "    .dataframe thead th {\n",
       "        text-align: right;\n",
       "    }\n",
       "</style>\n",
       "<table border=\"1\" class=\"dataframe\">\n",
       "  <thead>\n",
       "    <tr style=\"text-align: right;\">\n",
       "      <th></th>\n",
       "      <th>id</th>\n",
       "      <th>label</th>\n",
       "      <th>tweet</th>\n",
       "    </tr>\n",
       "  </thead>\n",
       "  <tbody>\n",
       "    <tr>\n",
       "      <th>0</th>\n",
       "      <td>1</td>\n",
       "      <td>0</td>\n",
       "      <td>user when a father is dysfunctional and is so...</td>\n",
       "    </tr>\n",
       "    <tr>\n",
       "      <th>1</th>\n",
       "      <td>2</td>\n",
       "      <td>0</td>\n",
       "      <td>user user thanks for lyft credit i cant use ca...</td>\n",
       "    </tr>\n",
       "    <tr>\n",
       "      <th>2</th>\n",
       "      <td>3</td>\n",
       "      <td>0</td>\n",
       "      <td>bihday your majesty</td>\n",
       "    </tr>\n",
       "    <tr>\n",
       "      <th>3</th>\n",
       "      <td>4</td>\n",
       "      <td>0</td>\n",
       "      <td>model   i love u take with u all the time in u...</td>\n",
       "    </tr>\n",
       "    <tr>\n",
       "      <th>4</th>\n",
       "      <td>5</td>\n",
       "      <td>0</td>\n",
       "      <td>factsguide society now    motivation</td>\n",
       "    </tr>\n",
       "  </tbody>\n",
       "</table>\n",
       "</div>"
      ],
      "text/plain": [
       "   id  label                                              tweet\n",
       "0   1      0   user when a father is dysfunctional and is so...\n",
       "1   2      0  user user thanks for lyft credit i cant use ca...\n",
       "2   3      0                                bihday your majesty\n",
       "3   4      0  model   i love u take with u all the time in u...\n",
       "4   5      0               factsguide society now    motivation"
      ]
     },
     "execution_count": 33,
     "metadata": {},
     "output_type": "execute_result"
    }
   ],
   "source": [
    "df.head()"
   ]
  },
  {
   "cell_type": "code",
   "execution_count": null,
   "id": "745cf359",
   "metadata": {
    "papermill": {
     "duration": 0.011048,
     "end_time": "2022-12-17T12:54:54.300489",
     "exception": false,
     "start_time": "2022-12-17T12:54:54.289441",
     "status": "completed"
    },
    "tags": []
   },
   "outputs": [],
   "source": []
  }
 ],
 "metadata": {
  "kernelspec": {
   "display_name": "Python 3",
   "language": "python",
   "name": "python3"
  },
  "language_info": {
   "codemirror_mode": {
    "name": "ipython",
    "version": 3
   },
   "file_extension": ".py",
   "mimetype": "text/x-python",
   "name": "python",
   "nbconvert_exporter": "python",
   "pygments_lexer": "ipython3",
   "version": "3.7.12"
  },
  "papermill": {
   "default_parameters": {},
   "duration": 15.63068,
   "end_time": "2022-12-17T12:54:55.138689",
   "environment_variables": {},
   "exception": null,
   "input_path": "__notebook__.ipynb",
   "output_path": "__notebook__.ipynb",
   "parameters": {},
   "start_time": "2022-12-17T12:54:39.508009",
   "version": "2.3.4"
  }
 },
 "nbformat": 4,
 "nbformat_minor": 5
}
