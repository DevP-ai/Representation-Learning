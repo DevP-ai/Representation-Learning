{
 "cells": [
  {
   "cell_type": "code",
   "execution_count": 1,
   "id": "af85ac7d",
   "metadata": {
    "_cell_guid": "b1076dfc-b9ad-4769-8c92-a6c4dae69d19",
    "_uuid": "8f2839f25d086af736a60e9eeb907d3b93b6e0e5",
    "execution": {
     "iopub.execute_input": "2022-12-13T15:22:45.991858Z",
     "iopub.status.busy": "2022-12-13T15:22:45.991212Z",
     "iopub.status.idle": "2022-12-13T15:22:46.015524Z",
     "shell.execute_reply": "2022-12-13T15:22:46.014156Z"
    },
    "papermill": {
     "duration": 0.036679,
     "end_time": "2022-12-13T15:22:46.019285",
     "exception": false,
     "start_time": "2022-12-13T15:22:45.982606",
     "status": "completed"
    },
    "tags": []
   },
   "outputs": [
    {
     "name": "stdout",
     "output_type": "stream",
     "text": [
      "/kaggle/input/imdb-dataset-of-50k-movie-reviews/IMDB Dataset.csv\n"
     ]
    }
   ],
   "source": [
    "# This Python 3 environment comes with many helpful analytics libraries installed\n",
    "# It is defined by the kaggle/python Docker image: https://github.com/kaggle/docker-python\n",
    "# For example, here's several helpful packages to load\n",
    "\n",
    "import numpy as np # linear algebra\n",
    "import pandas as pd # data processing, CSV file I/O (e.g. pd.read_csv)\n",
    "\n",
    "# Input data files are available in the read-only \"../input/\" directory\n",
    "# For example, running this (by clicking run or pressing Shift+Enter) will list all files under the input directory\n",
    "\n",
    "import os\n",
    "for dirname, _, filenames in os.walk('/kaggle/input'):\n",
    "    for filename in filenames:\n",
    "        print(os.path.join(dirname, filename))\n",
    "\n",
    "# You can write up to 20GB to the current directory (/kaggle/working/) that gets preserved as output when you create a version using \"Save & Run All\" \n",
    "# You can also write temporary files to /kaggle/temp/, but they won't be saved outside of the current session"
   ]
  },
  {
   "cell_type": "code",
   "execution_count": 2,
   "id": "21dc1fb2",
   "metadata": {
    "execution": {
     "iopub.execute_input": "2022-12-13T15:22:46.036135Z",
     "iopub.status.busy": "2022-12-13T15:22:46.035440Z",
     "iopub.status.idle": "2022-12-13T15:22:47.805297Z",
     "shell.execute_reply": "2022-12-13T15:22:47.804129Z"
    },
    "papermill": {
     "duration": 1.779836,
     "end_time": "2022-12-13T15:22:47.808086",
     "exception": false,
     "start_time": "2022-12-13T15:22:46.028250",
     "status": "completed"
    },
    "tags": []
   },
   "outputs": [
    {
     "data": {
      "text/html": [
       "<div>\n",
       "<style scoped>\n",
       "    .dataframe tbody tr th:only-of-type {\n",
       "        vertical-align: middle;\n",
       "    }\n",
       "\n",
       "    .dataframe tbody tr th {\n",
       "        vertical-align: top;\n",
       "    }\n",
       "\n",
       "    .dataframe thead th {\n",
       "        text-align: right;\n",
       "    }\n",
       "</style>\n",
       "<table border=\"1\" class=\"dataframe\">\n",
       "  <thead>\n",
       "    <tr style=\"text-align: right;\">\n",
       "      <th></th>\n",
       "      <th>review</th>\n",
       "      <th>sentiment</th>\n",
       "    </tr>\n",
       "  </thead>\n",
       "  <tbody>\n",
       "    <tr>\n",
       "      <th>0</th>\n",
       "      <td>One of the other reviewers has mentioned that ...</td>\n",
       "      <td>positive</td>\n",
       "    </tr>\n",
       "    <tr>\n",
       "      <th>1</th>\n",
       "      <td>A wonderful little production. &lt;br /&gt;&lt;br /&gt;The...</td>\n",
       "      <td>positive</td>\n",
       "    </tr>\n",
       "    <tr>\n",
       "      <th>2</th>\n",
       "      <td>I thought this was a wonderful way to spend ti...</td>\n",
       "      <td>positive</td>\n",
       "    </tr>\n",
       "    <tr>\n",
       "      <th>3</th>\n",
       "      <td>Basically there's a family where a little boy ...</td>\n",
       "      <td>negative</td>\n",
       "    </tr>\n",
       "    <tr>\n",
       "      <th>4</th>\n",
       "      <td>Petter Mattei's \"Love in the Time of Money\" is...</td>\n",
       "      <td>positive</td>\n",
       "    </tr>\n",
       "    <tr>\n",
       "      <th>5</th>\n",
       "      <td>Probably my all-time favorite movie, a story o...</td>\n",
       "      <td>positive</td>\n",
       "    </tr>\n",
       "    <tr>\n",
       "      <th>6</th>\n",
       "      <td>I sure would like to see a resurrection of a u...</td>\n",
       "      <td>positive</td>\n",
       "    </tr>\n",
       "    <tr>\n",
       "      <th>7</th>\n",
       "      <td>This show was an amazing, fresh &amp; innovative i...</td>\n",
       "      <td>negative</td>\n",
       "    </tr>\n",
       "    <tr>\n",
       "      <th>8</th>\n",
       "      <td>Encouraged by the positive comments about this...</td>\n",
       "      <td>negative</td>\n",
       "    </tr>\n",
       "    <tr>\n",
       "      <th>9</th>\n",
       "      <td>If you like original gut wrenching laughter yo...</td>\n",
       "      <td>positive</td>\n",
       "    </tr>\n",
       "  </tbody>\n",
       "</table>\n",
       "</div>"
      ],
      "text/plain": [
       "                                              review sentiment\n",
       "0  One of the other reviewers has mentioned that ...  positive\n",
       "1  A wonderful little production. <br /><br />The...  positive\n",
       "2  I thought this was a wonderful way to spend ti...  positive\n",
       "3  Basically there's a family where a little boy ...  negative\n",
       "4  Petter Mattei's \"Love in the Time of Money\" is...  positive\n",
       "5  Probably my all-time favorite movie, a story o...  positive\n",
       "6  I sure would like to see a resurrection of a u...  positive\n",
       "7  This show was an amazing, fresh & innovative i...  negative\n",
       "8  Encouraged by the positive comments about this...  negative\n",
       "9  If you like original gut wrenching laughter yo...  positive"
      ]
     },
     "execution_count": 2,
     "metadata": {},
     "output_type": "execute_result"
    }
   ],
   "source": [
    "df = pd.read_csv('/kaggle/input/imdb-dataset-of-50k-movie-reviews/IMDB Dataset.csv')\n",
    "df.head(10)"
   ]
  },
  {
   "cell_type": "markdown",
   "id": "ce3333bc",
   "metadata": {
    "papermill": {
     "duration": 0.005295,
     "end_time": "2022-12-13T15:22:47.819102",
     "exception": false,
     "start_time": "2022-12-13T15:22:47.813807",
     "status": "completed"
    },
    "tags": []
   },
   "source": [
    "# **LowerCasing**"
   ]
  },
  {
   "cell_type": "code",
   "execution_count": 3,
   "id": "a51f2305",
   "metadata": {
    "execution": {
     "iopub.execute_input": "2022-12-13T15:22:47.832078Z",
     "iopub.status.busy": "2022-12-13T15:22:47.831610Z",
     "iopub.status.idle": "2022-12-13T15:22:47.843316Z",
     "shell.execute_reply": "2022-12-13T15:22:47.842270Z"
    },
    "papermill": {
     "duration": 0.021113,
     "end_time": "2022-12-13T15:22:47.845761",
     "exception": false,
     "start_time": "2022-12-13T15:22:47.824648",
     "status": "completed"
    },
    "tags": []
   },
   "outputs": [
    {
     "data": {
      "text/plain": [
       "'Petter Mattei\\'s \"Love in the Time of Money\" is a visually stunning film to watch. Mr. Mattei offers us a vivid portrait about human relations. This is a movie that seems to be telling us what money, power and success do to people in the different situations we encounter. <br /><br />This being a variation on the Arthur Schnitzler\\'s play about the same theme, the director transfers the action to the present time New York where all these different characters meet and connect. Each one is connected in one way, or another to the next person, but no one seems to know the previous point of contact. Stylishly, the film has a sophisticated luxurious look. We are taken to see how these people live and the world they live in their own habitat.<br /><br />The only thing one gets out of all these souls in the picture is the different stages of loneliness each one inhabits. A big city is not exactly the best place in which human relations find sincere fulfillment, as one discerns is the case with most of the people we encounter.<br /><br />The acting is good under Mr. Mattei\\'s direction. Steve Buscemi, Rosario Dawson, Carol Kane, Michael Imperioli, Adrian Grenier, and the rest of the talented cast, make these characters come alive.<br /><br />We wish Mr. Mattei good luck and await anxiously for his next work.'"
      ]
     },
     "execution_count": 3,
     "metadata": {},
     "output_type": "execute_result"
    }
   ],
   "source": [
    "df['review'][4]"
   ]
  },
  {
   "cell_type": "code",
   "execution_count": 4,
   "id": "30fcdfef",
   "metadata": {
    "execution": {
     "iopub.execute_input": "2022-12-13T15:22:47.858621Z",
     "iopub.status.busy": "2022-12-13T15:22:47.858180Z",
     "iopub.status.idle": "2022-12-13T15:22:47.865980Z",
     "shell.execute_reply": "2022-12-13T15:22:47.864733Z"
    },
    "papermill": {
     "duration": 0.016951,
     "end_time": "2022-12-13T15:22:47.868296",
     "exception": false,
     "start_time": "2022-12-13T15:22:47.851345",
     "status": "completed"
    },
    "tags": []
   },
   "outputs": [
    {
     "data": {
      "text/plain": [
       "'petter mattei\\'s \"love in the time of money\" is a visually stunning film to watch. mr. mattei offers us a vivid portrait about human relations. this is a movie that seems to be telling us what money, power and success do to people in the different situations we encounter. <br /><br />this being a variation on the arthur schnitzler\\'s play about the same theme, the director transfers the action to the present time new york where all these different characters meet and connect. each one is connected in one way, or another to the next person, but no one seems to know the previous point of contact. stylishly, the film has a sophisticated luxurious look. we are taken to see how these people live and the world they live in their own habitat.<br /><br />the only thing one gets out of all these souls in the picture is the different stages of loneliness each one inhabits. a big city is not exactly the best place in which human relations find sincere fulfillment, as one discerns is the case with most of the people we encounter.<br /><br />the acting is good under mr. mattei\\'s direction. steve buscemi, rosario dawson, carol kane, michael imperioli, adrian grenier, and the rest of the talented cast, make these characters come alive.<br /><br />we wish mr. mattei good luck and await anxiously for his next work.'"
      ]
     },
     "execution_count": 4,
     "metadata": {},
     "output_type": "execute_result"
    }
   ],
   "source": [
    "df['review'][4].lower()"
   ]
  },
  {
   "cell_type": "code",
   "execution_count": 5,
   "id": "08b24868",
   "metadata": {
    "execution": {
     "iopub.execute_input": "2022-12-13T15:22:47.881630Z",
     "iopub.status.busy": "2022-12-13T15:22:47.881193Z",
     "iopub.status.idle": "2022-12-13T15:22:47.888972Z",
     "shell.execute_reply": "2022-12-13T15:22:47.887711Z"
    },
    "papermill": {
     "duration": 0.017082,
     "end_time": "2022-12-13T15:22:47.891245",
     "exception": false,
     "start_time": "2022-12-13T15:22:47.874163",
     "status": "completed"
    },
    "tags": []
   },
   "outputs": [
    {
     "data": {
      "text/plain": [
       "(50000, 2)"
      ]
     },
     "execution_count": 5,
     "metadata": {},
     "output_type": "execute_result"
    }
   ],
   "source": [
    "df.shape"
   ]
  },
  {
   "cell_type": "code",
   "execution_count": 6,
   "id": "c4ae48c1",
   "metadata": {
    "execution": {
     "iopub.execute_input": "2022-12-13T15:22:47.905300Z",
     "iopub.status.busy": "2022-12-13T15:22:47.904872Z",
     "iopub.status.idle": "2022-12-13T15:22:48.074570Z",
     "shell.execute_reply": "2022-12-13T15:22:48.073134Z"
    },
    "papermill": {
     "duration": 0.180631,
     "end_time": "2022-12-13T15:22:48.077798",
     "exception": false,
     "start_time": "2022-12-13T15:22:47.897167",
     "status": "completed"
    },
    "tags": []
   },
   "outputs": [],
   "source": [
    "df['review']=df['review'].str.lower()"
   ]
  },
  {
   "cell_type": "code",
   "execution_count": 7,
   "id": "bc5ccefd",
   "metadata": {
    "execution": {
     "iopub.execute_input": "2022-12-13T15:22:48.091427Z",
     "iopub.status.busy": "2022-12-13T15:22:48.090990Z",
     "iopub.status.idle": "2022-12-13T15:22:48.100316Z",
     "shell.execute_reply": "2022-12-13T15:22:48.098835Z"
    },
    "papermill": {
     "duration": 0.019286,
     "end_time": "2022-12-13T15:22:48.102994",
     "exception": false,
     "start_time": "2022-12-13T15:22:48.083708",
     "status": "completed"
    },
    "tags": []
   },
   "outputs": [
    {
     "data": {
      "text/plain": [
       "0        one of the other reviewers has mentioned that ...\n",
       "1        a wonderful little production. <br /><br />the...\n",
       "2        i thought this was a wonderful way to spend ti...\n",
       "3        basically there's a family where a little boy ...\n",
       "4        petter mattei's \"love in the time of money\" is...\n",
       "                               ...                        \n",
       "49995    i thought this movie did a down right good job...\n",
       "49996    bad plot, bad dialogue, bad acting, idiotic di...\n",
       "49997    i am a catholic taught in parochial elementary...\n",
       "49998    i'm going to have to disagree with the previou...\n",
       "49999    no one expects the star trek movies to be high...\n",
       "Name: review, Length: 50000, dtype: object"
      ]
     },
     "execution_count": 7,
     "metadata": {},
     "output_type": "execute_result"
    }
   ],
   "source": [
    "df['review']"
   ]
  },
  {
   "cell_type": "markdown",
   "id": "20152655",
   "metadata": {
    "papermill": {
     "duration": 0.007242,
     "end_time": "2022-12-13T15:22:48.116252",
     "exception": false,
     "start_time": "2022-12-13T15:22:48.109010",
     "status": "completed"
    },
    "tags": []
   },
   "source": [
    "# **Remove HTML Tags**"
   ]
  },
  {
   "cell_type": "code",
   "execution_count": 8,
   "id": "8d7ae55b",
   "metadata": {
    "execution": {
     "iopub.execute_input": "2022-12-13T15:22:48.130770Z",
     "iopub.status.busy": "2022-12-13T15:22:48.129480Z",
     "iopub.status.idle": "2022-12-13T15:22:48.136205Z",
     "shell.execute_reply": "2022-12-13T15:22:48.135059Z"
    },
    "papermill": {
     "duration": 0.016565,
     "end_time": "2022-12-13T15:22:48.138654",
     "exception": false,
     "start_time": "2022-12-13T15:22:48.122089",
     "status": "completed"
    },
    "tags": []
   },
   "outputs": [],
   "source": [
    "import re\n",
    "\n",
    "def remove_html(text):\n",
    "    pattern=re.compile('<.*?>')\n",
    "    return pattern.sub('r',text)"
   ]
  },
  {
   "cell_type": "code",
   "execution_count": 9,
   "id": "74025b1e",
   "metadata": {
    "execution": {
     "iopub.execute_input": "2022-12-13T15:22:48.152281Z",
     "iopub.status.busy": "2022-12-13T15:22:48.151908Z",
     "iopub.status.idle": "2022-12-13T15:22:48.159206Z",
     "shell.execute_reply": "2022-12-13T15:22:48.158303Z"
    },
    "papermill": {
     "duration": 0.016678,
     "end_time": "2022-12-13T15:22:48.161421",
     "exception": false,
     "start_time": "2022-12-13T15:22:48.144743",
     "status": "completed"
    },
    "tags": []
   },
   "outputs": [
    {
     "data": {
      "text/plain": [
       "'petter mattei\\'s \"love in the time of money\" is a visually stunning film to watch. mr. mattei offers us a vivid portrait about human relations. this is a movie that seems to be telling us what money, power and success do to people in the different situations we encounter. rrthis being a variation on the arthur schnitzler\\'s play about the same theme, the director transfers the action to the present time new york where all these different characters meet and connect. each one is connected in one way, or another to the next person, but no one seems to know the previous point of contact. stylishly, the film has a sophisticated luxurious look. we are taken to see how these people live and the world they live in their own habitat.rrthe only thing one gets out of all these souls in the picture is the different stages of loneliness each one inhabits. a big city is not exactly the best place in which human relations find sincere fulfillment, as one discerns is the case with most of the people we encounter.rrthe acting is good under mr. mattei\\'s direction. steve buscemi, rosario dawson, carol kane, michael imperioli, adrian grenier, and the rest of the talented cast, make these characters come alive.rrwe wish mr. mattei good luck and await anxiously for his next work.'"
      ]
     },
     "execution_count": 9,
     "metadata": {},
     "output_type": "execute_result"
    }
   ],
   "source": [
    "text='petter mattei\\'s \"love in the time of money\" is a visually stunning film to watch. mr. mattei offers us a vivid portrait about human relations. this is a movie that seems to be telling us what money, power and success do to people in the different situations we encounter. <br /><br />this being a variation on the arthur schnitzler\\'s play about the same theme, the director transfers the action to the present time new york where all these different characters meet and connect. each one is connected in one way, or another to the next person, but no one seems to know the previous point of contact. stylishly, the film has a sophisticated luxurious look. we are taken to see how these people live and the world they live in their own habitat.<br /><br />the only thing one gets out of all these souls in the picture is the different stages of loneliness each one inhabits. a big city is not exactly the best place in which human relations find sincere fulfillment, as one discerns is the case with most of the people we encounter.<br /><br />the acting is good under mr. mattei\\'s direction. steve buscemi, rosario dawson, carol kane, michael imperioli, adrian grenier, and the rest of the talented cast, make these characters come alive.<br /><br />we wish mr. mattei good luck and await anxiously for his next work.'\n",
    "remove_html(text)"
   ]
  },
  {
   "cell_type": "code",
   "execution_count": 10,
   "id": "2ceb8c57",
   "metadata": {
    "execution": {
     "iopub.execute_input": "2022-12-13T15:22:48.175907Z",
     "iopub.status.busy": "2022-12-13T15:22:48.175509Z",
     "iopub.status.idle": "2022-12-13T15:22:48.366707Z",
     "shell.execute_reply": "2022-12-13T15:22:48.365608Z"
    },
    "papermill": {
     "duration": 0.2017,
     "end_time": "2022-12-13T15:22:48.369263",
     "exception": false,
     "start_time": "2022-12-13T15:22:48.167563",
     "status": "completed"
    },
    "tags": []
   },
   "outputs": [],
   "source": [
    "df['review']=df[\"review\"].apply(remove_html)"
   ]
  },
  {
   "cell_type": "code",
   "execution_count": 11,
   "id": "88522d32",
   "metadata": {
    "execution": {
     "iopub.execute_input": "2022-12-13T15:22:48.385364Z",
     "iopub.status.busy": "2022-12-13T15:22:48.384664Z",
     "iopub.status.idle": "2022-12-13T15:22:48.395222Z",
     "shell.execute_reply": "2022-12-13T15:22:48.393977Z"
    },
    "papermill": {
     "duration": 0.022251,
     "end_time": "2022-12-13T15:22:48.397933",
     "exception": false,
     "start_time": "2022-12-13T15:22:48.375682",
     "status": "completed"
    },
    "tags": []
   },
   "outputs": [
    {
     "data": {
      "text/plain": [
       "0        one of the other reviewers has mentioned that ...\n",
       "1        a wonderful little production. rrthe filming t...\n",
       "2        i thought this was a wonderful way to spend ti...\n",
       "3        basically there's a family where a little boy ...\n",
       "4        petter mattei's \"love in the time of money\" is...\n",
       "                               ...                        \n",
       "49995    i thought this movie did a down right good job...\n",
       "49996    bad plot, bad dialogue, bad acting, idiotic di...\n",
       "49997    i am a catholic taught in parochial elementary...\n",
       "49998    i'm going to have to disagree with the previou...\n",
       "49999    no one expects the star trek movies to be high...\n",
       "Name: review, Length: 50000, dtype: object"
      ]
     },
     "execution_count": 11,
     "metadata": {},
     "output_type": "execute_result"
    }
   ],
   "source": [
    "df['review']"
   ]
  },
  {
   "cell_type": "code",
   "execution_count": 12,
   "id": "6ea17374",
   "metadata": {
    "execution": {
     "iopub.execute_input": "2022-12-13T15:22:48.412905Z",
     "iopub.status.busy": "2022-12-13T15:22:48.412510Z",
     "iopub.status.idle": "2022-12-13T15:22:48.418544Z",
     "shell.execute_reply": "2022-12-13T15:22:48.417144Z"
    },
    "papermill": {
     "duration": 0.016806,
     "end_time": "2022-12-13T15:22:48.421231",
     "exception": false,
     "start_time": "2022-12-13T15:22:48.404425",
     "status": "completed"
    },
    "tags": []
   },
   "outputs": [
    {
     "name": "stdout",
     "output_type": "stream",
     "text": [
      "checkout new series https://realpython.com/python-keyerror/#:~:text=A%20Python%20KeyError%20exception%20is,set%20of%20values%20to%20another.\n",
      "Click to find reges https://regex101.com/\n",
      "Github Repository https://github.com/ashishpatel26/500-AI-Machine-learning-Deep-learning-Computer-vision-NLP-Projects-with-code\n"
     ]
    }
   ],
   "source": [
    "t1='checkout new series https://realpython.com/python-keyerror/#:~:text=A%20Python%20KeyError%20exception%20is,set%20of%20values%20to%20another.'\n",
    "t2='Click to find reges https://regex101.com/'\n",
    "t3='Github Repository https://github.com/ashishpatel26/500-AI-Machine-learning-Deep-learning-Computer-vision-NLP-Projects-with-code'\n",
    "\n",
    "print(t1)\n",
    "print(t2)\n",
    "print(t3)"
   ]
  },
  {
   "cell_type": "code",
   "execution_count": 13,
   "id": "bb4ef80d",
   "metadata": {
    "execution": {
     "iopub.execute_input": "2022-12-13T15:22:48.435745Z",
     "iopub.status.busy": "2022-12-13T15:22:48.435331Z",
     "iopub.status.idle": "2022-12-13T15:22:48.440811Z",
     "shell.execute_reply": "2022-12-13T15:22:48.439463Z"
    },
    "papermill": {
     "duration": 0.015719,
     "end_time": "2022-12-13T15:22:48.443241",
     "exception": false,
     "start_time": "2022-12-13T15:22:48.427522",
     "status": "completed"
    },
    "tags": []
   },
   "outputs": [],
   "source": [
    "def remove_url(text):\n",
    "    pattern=re.compile('https?://\\S+|www.\\.\\S+')\n",
    "    return pattern.sub(r'',text)"
   ]
  },
  {
   "cell_type": "code",
   "execution_count": 14,
   "id": "4650f340",
   "metadata": {
    "execution": {
     "iopub.execute_input": "2022-12-13T15:22:48.457927Z",
     "iopub.status.busy": "2022-12-13T15:22:48.457469Z",
     "iopub.status.idle": "2022-12-13T15:22:48.464830Z",
     "shell.execute_reply": "2022-12-13T15:22:48.463868Z"
    },
    "papermill": {
     "duration": 0.017618,
     "end_time": "2022-12-13T15:22:48.467197",
     "exception": false,
     "start_time": "2022-12-13T15:22:48.449579",
     "status": "completed"
    },
    "tags": []
   },
   "outputs": [
    {
     "data": {
      "text/plain": [
       "'checkout new series '"
      ]
     },
     "execution_count": 14,
     "metadata": {},
     "output_type": "execute_result"
    }
   ],
   "source": [
    "remove_url(t1)"
   ]
  },
  {
   "cell_type": "code",
   "execution_count": 15,
   "id": "01e396c1",
   "metadata": {
    "execution": {
     "iopub.execute_input": "2022-12-13T15:22:48.482685Z",
     "iopub.status.busy": "2022-12-13T15:22:48.481349Z",
     "iopub.status.idle": "2022-12-13T15:22:48.488506Z",
     "shell.execute_reply": "2022-12-13T15:22:48.487603Z"
    },
    "papermill": {
     "duration": 0.017133,
     "end_time": "2022-12-13T15:22:48.490700",
     "exception": false,
     "start_time": "2022-12-13T15:22:48.473567",
     "status": "completed"
    },
    "tags": []
   },
   "outputs": [
    {
     "data": {
      "text/plain": [
       "'Click to find reges '"
      ]
     },
     "execution_count": 15,
     "metadata": {},
     "output_type": "execute_result"
    }
   ],
   "source": [
    "remove_url(t2)"
   ]
  },
  {
   "cell_type": "code",
   "execution_count": 16,
   "id": "a5f26b42",
   "metadata": {
    "execution": {
     "iopub.execute_input": "2022-12-13T15:22:48.506164Z",
     "iopub.status.busy": "2022-12-13T15:22:48.505513Z",
     "iopub.status.idle": "2022-12-13T15:22:48.512465Z",
     "shell.execute_reply": "2022-12-13T15:22:48.511166Z"
    },
    "papermill": {
     "duration": 0.017793,
     "end_time": "2022-12-13T15:22:48.515055",
     "exception": false,
     "start_time": "2022-12-13T15:22:48.497262",
     "status": "completed"
    },
    "tags": []
   },
   "outputs": [
    {
     "data": {
      "text/plain": [
       "'Github Repository '"
      ]
     },
     "execution_count": 16,
     "metadata": {},
     "output_type": "execute_result"
    }
   ],
   "source": [
    "remove_url(t3)"
   ]
  },
  {
   "cell_type": "code",
   "execution_count": 17,
   "id": "3b9d96ab",
   "metadata": {
    "execution": {
     "iopub.execute_input": "2022-12-13T15:22:48.531353Z",
     "iopub.status.busy": "2022-12-13T15:22:48.530314Z",
     "iopub.status.idle": "2022-12-13T15:22:48.535822Z",
     "shell.execute_reply": "2022-12-13T15:22:48.534570Z"
    },
    "papermill": {
     "duration": 0.016346,
     "end_time": "2022-12-13T15:22:48.538545",
     "exception": false,
     "start_time": "2022-12-13T15:22:48.522199",
     "status": "completed"
    },
    "tags": []
   },
   "outputs": [],
   "source": [
    "p='!\\\"#\\＄%&\\'\\(\\)\\*\\+,-\\./:;<=>\\?@\\[\\\\\\]\\^_`{\\|}~'"
   ]
  }
 ],
 "metadata": {
  "kernelspec": {
   "display_name": "Python 3",
   "language": "python",
   "name": "python3"
  },
  "language_info": {
   "codemirror_mode": {
    "name": "ipython",
    "version": 3
   },
   "file_extension": ".py",
   "mimetype": "text/x-python",
   "name": "python",
   "nbconvert_exporter": "python",
   "pygments_lexer": "ipython3",
   "version": "3.7.12"
  },
  "papermill": {
   "default_parameters": {},
   "duration": 12.398122,
   "end_time": "2022-12-13T15:22:49.268196",
   "environment_variables": {},
   "exception": null,
   "input_path": "__notebook__.ipynb",
   "output_path": "__notebook__.ipynb",
   "parameters": {},
   "start_time": "2022-12-13T15:22:36.870074",
   "version": "2.3.4"
  }
 },
 "nbformat": 4,
 "nbformat_minor": 5
}
