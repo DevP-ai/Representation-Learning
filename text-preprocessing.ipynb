{
 "cells": [
  {
   "cell_type": "code",
   "execution_count": 1,
   "id": "0913739e",
   "metadata": {
    "_cell_guid": "b1076dfc-b9ad-4769-8c92-a6c4dae69d19",
    "_uuid": "8f2839f25d086af736a60e9eeb907d3b93b6e0e5",
    "execution": {
     "iopub.execute_input": "2022-12-17T11:02:14.563628Z",
     "iopub.status.busy": "2022-12-17T11:02:14.562947Z",
     "iopub.status.idle": "2022-12-17T11:02:14.579001Z",
     "shell.execute_reply": "2022-12-17T11:02:14.578255Z"
    },
    "papermill": {
     "duration": 0.026421,
     "end_time": "2022-12-17T11:02:14.581159",
     "exception": false,
     "start_time": "2022-12-17T11:02:14.554738",
     "status": "completed"
    },
    "tags": []
   },
   "outputs": [
    {
     "name": "stdout",
     "output_type": "stream",
     "text": [
      "/kaggle/input/imdb-dataset-of-50k-movie-reviews/IMDB Dataset.csv\n"
     ]
    }
   ],
   "source": [
    "# This Python 3 environment comes with many helpful analytics libraries installed\n",
    "# It is defined by the kaggle/python Docker image: https://github.com/kaggle/docker-python\n",
    "# For example, here's several helpful packages to load\n",
    "\n",
    "import numpy as np # linear algebra\n",
    "import pandas as pd # data processing, CSV file I/O (e.g. pd.read_csv)\n",
    "\n",
    "# Input data files are available in the read-only \"../input/\" directory\n",
    "# For example, running this (by clicking run or pressing Shift+Enter) will list all files under the input directory\n",
    "\n",
    "import os\n",
    "for dirname, _, filenames in os.walk('/kaggle/input'):\n",
    "    for filename in filenames:\n",
    "        print(os.path.join(dirname, filename))\n",
    "\n",
    "# You can write up to 20GB to the current directory (/kaggle/working/) that gets preserved as output when you create a version using \"Save & Run All\" \n",
    "# You can also write temporary files to /kaggle/temp/, but they won't be saved outside of the current session"
   ]
  },
  {
   "cell_type": "code",
   "execution_count": 2,
   "id": "e434b3fd",
   "metadata": {
    "execution": {
     "iopub.execute_input": "2022-12-17T11:02:14.594498Z",
     "iopub.status.busy": "2022-12-17T11:02:14.593920Z",
     "iopub.status.idle": "2022-12-17T11:02:15.971694Z",
     "shell.execute_reply": "2022-12-17T11:02:15.970788Z"
    },
    "papermill": {
     "duration": 1.386518,
     "end_time": "2022-12-17T11:02:15.973450",
     "exception": false,
     "start_time": "2022-12-17T11:02:14.586932",
     "status": "completed"
    },
    "tags": []
   },
   "outputs": [
    {
     "data": {
      "text/html": [
       "<div>\n",
       "<style scoped>\n",
       "    .dataframe tbody tr th:only-of-type {\n",
       "        vertical-align: middle;\n",
       "    }\n",
       "\n",
       "    .dataframe tbody tr th {\n",
       "        vertical-align: top;\n",
       "    }\n",
       "\n",
       "    .dataframe thead th {\n",
       "        text-align: right;\n",
       "    }\n",
       "</style>\n",
       "<table border=\"1\" class=\"dataframe\">\n",
       "  <thead>\n",
       "    <tr style=\"text-align: right;\">\n",
       "      <th></th>\n",
       "      <th>review</th>\n",
       "      <th>sentiment</th>\n",
       "    </tr>\n",
       "  </thead>\n",
       "  <tbody>\n",
       "    <tr>\n",
       "      <th>0</th>\n",
       "      <td>One of the other reviewers has mentioned that ...</td>\n",
       "      <td>positive</td>\n",
       "    </tr>\n",
       "    <tr>\n",
       "      <th>1</th>\n",
       "      <td>A wonderful little production. &lt;br /&gt;&lt;br /&gt;The...</td>\n",
       "      <td>positive</td>\n",
       "    </tr>\n",
       "    <tr>\n",
       "      <th>2</th>\n",
       "      <td>I thought this was a wonderful way to spend ti...</td>\n",
       "      <td>positive</td>\n",
       "    </tr>\n",
       "    <tr>\n",
       "      <th>3</th>\n",
       "      <td>Basically there's a family where a little boy ...</td>\n",
       "      <td>negative</td>\n",
       "    </tr>\n",
       "    <tr>\n",
       "      <th>4</th>\n",
       "      <td>Petter Mattei's \"Love in the Time of Money\" is...</td>\n",
       "      <td>positive</td>\n",
       "    </tr>\n",
       "    <tr>\n",
       "      <th>5</th>\n",
       "      <td>Probably my all-time favorite movie, a story o...</td>\n",
       "      <td>positive</td>\n",
       "    </tr>\n",
       "    <tr>\n",
       "      <th>6</th>\n",
       "      <td>I sure would like to see a resurrection of a u...</td>\n",
       "      <td>positive</td>\n",
       "    </tr>\n",
       "    <tr>\n",
       "      <th>7</th>\n",
       "      <td>This show was an amazing, fresh &amp; innovative i...</td>\n",
       "      <td>negative</td>\n",
       "    </tr>\n",
       "    <tr>\n",
       "      <th>8</th>\n",
       "      <td>Encouraged by the positive comments about this...</td>\n",
       "      <td>negative</td>\n",
       "    </tr>\n",
       "    <tr>\n",
       "      <th>9</th>\n",
       "      <td>If you like original gut wrenching laughter yo...</td>\n",
       "      <td>positive</td>\n",
       "    </tr>\n",
       "  </tbody>\n",
       "</table>\n",
       "</div>"
      ],
      "text/plain": [
       "                                              review sentiment\n",
       "0  One of the other reviewers has mentioned that ...  positive\n",
       "1  A wonderful little production. <br /><br />The...  positive\n",
       "2  I thought this was a wonderful way to spend ti...  positive\n",
       "3  Basically there's a family where a little boy ...  negative\n",
       "4  Petter Mattei's \"Love in the Time of Money\" is...  positive\n",
       "5  Probably my all-time favorite movie, a story o...  positive\n",
       "6  I sure would like to see a resurrection of a u...  positive\n",
       "7  This show was an amazing, fresh & innovative i...  negative\n",
       "8  Encouraged by the positive comments about this...  negative\n",
       "9  If you like original gut wrenching laughter yo...  positive"
      ]
     },
     "execution_count": 2,
     "metadata": {},
     "output_type": "execute_result"
    }
   ],
   "source": [
    "df = pd.read_csv('/kaggle/input/imdb-dataset-of-50k-movie-reviews/IMDB Dataset.csv')\n",
    "df.head(10)"
   ]
  },
  {
   "cell_type": "markdown",
   "id": "381f89ca",
   "metadata": {
    "papermill": {
     "duration": 0.005243,
     "end_time": "2022-12-17T11:02:15.984405",
     "exception": false,
     "start_time": "2022-12-17T11:02:15.979162",
     "status": "completed"
    },
    "tags": []
   },
   "source": [
    "# **LowerCasing**"
   ]
  },
  {
   "cell_type": "code",
   "execution_count": 3,
   "id": "00fd380b",
   "metadata": {
    "execution": {
     "iopub.execute_input": "2022-12-17T11:02:15.996859Z",
     "iopub.status.busy": "2022-12-17T11:02:15.996498Z",
     "iopub.status.idle": "2022-12-17T11:02:16.004181Z",
     "shell.execute_reply": "2022-12-17T11:02:16.003581Z"
    },
    "papermill": {
     "duration": 0.016104,
     "end_time": "2022-12-17T11:02:16.006031",
     "exception": false,
     "start_time": "2022-12-17T11:02:15.989927",
     "status": "completed"
    },
    "tags": []
   },
   "outputs": [
    {
     "data": {
      "text/plain": [
       "'Petter Mattei\\'s \"Love in the Time of Money\" is a visually stunning film to watch. Mr. Mattei offers us a vivid portrait about human relations. This is a movie that seems to be telling us what money, power and success do to people in the different situations we encounter. <br /><br />This being a variation on the Arthur Schnitzler\\'s play about the same theme, the director transfers the action to the present time New York where all these different characters meet and connect. Each one is connected in one way, or another to the next person, but no one seems to know the previous point of contact. Stylishly, the film has a sophisticated luxurious look. We are taken to see how these people live and the world they live in their own habitat.<br /><br />The only thing one gets out of all these souls in the picture is the different stages of loneliness each one inhabits. A big city is not exactly the best place in which human relations find sincere fulfillment, as one discerns is the case with most of the people we encounter.<br /><br />The acting is good under Mr. Mattei\\'s direction. Steve Buscemi, Rosario Dawson, Carol Kane, Michael Imperioli, Adrian Grenier, and the rest of the talented cast, make these characters come alive.<br /><br />We wish Mr. Mattei good luck and await anxiously for his next work.'"
      ]
     },
     "execution_count": 3,
     "metadata": {},
     "output_type": "execute_result"
    }
   ],
   "source": [
    "df['review'][4]"
   ]
  },
  {
   "cell_type": "code",
   "execution_count": 4,
   "id": "be795b13",
   "metadata": {
    "execution": {
     "iopub.execute_input": "2022-12-17T11:02:16.020196Z",
     "iopub.status.busy": "2022-12-17T11:02:16.019605Z",
     "iopub.status.idle": "2022-12-17T11:02:16.025647Z",
     "shell.execute_reply": "2022-12-17T11:02:16.024823Z"
    },
    "papermill": {
     "duration": 0.015136,
     "end_time": "2022-12-17T11:02:16.027385",
     "exception": false,
     "start_time": "2022-12-17T11:02:16.012249",
     "status": "completed"
    },
    "tags": []
   },
   "outputs": [
    {
     "data": {
      "text/plain": [
       "'petter mattei\\'s \"love in the time of money\" is a visually stunning film to watch. mr. mattei offers us a vivid portrait about human relations. this is a movie that seems to be telling us what money, power and success do to people in the different situations we encounter. <br /><br />this being a variation on the arthur schnitzler\\'s play about the same theme, the director transfers the action to the present time new york where all these different characters meet and connect. each one is connected in one way, or another to the next person, but no one seems to know the previous point of contact. stylishly, the film has a sophisticated luxurious look. we are taken to see how these people live and the world they live in their own habitat.<br /><br />the only thing one gets out of all these souls in the picture is the different stages of loneliness each one inhabits. a big city is not exactly the best place in which human relations find sincere fulfillment, as one discerns is the case with most of the people we encounter.<br /><br />the acting is good under mr. mattei\\'s direction. steve buscemi, rosario dawson, carol kane, michael imperioli, adrian grenier, and the rest of the talented cast, make these characters come alive.<br /><br />we wish mr. mattei good luck and await anxiously for his next work.'"
      ]
     },
     "execution_count": 4,
     "metadata": {},
     "output_type": "execute_result"
    }
   ],
   "source": [
    "df['review'][4].lower()"
   ]
  },
  {
   "cell_type": "code",
   "execution_count": 5,
   "id": "2c16c250",
   "metadata": {
    "execution": {
     "iopub.execute_input": "2022-12-17T11:02:16.041168Z",
     "iopub.status.busy": "2022-12-17T11:02:16.040807Z",
     "iopub.status.idle": "2022-12-17T11:02:16.047774Z",
     "shell.execute_reply": "2022-12-17T11:02:16.046656Z"
    },
    "papermill": {
     "duration": 0.016443,
     "end_time": "2022-12-17T11:02:16.049706",
     "exception": false,
     "start_time": "2022-12-17T11:02:16.033263",
     "status": "completed"
    },
    "tags": []
   },
   "outputs": [
    {
     "data": {
      "text/plain": [
       "(50000, 2)"
      ]
     },
     "execution_count": 5,
     "metadata": {},
     "output_type": "execute_result"
    }
   ],
   "source": [
    "df.shape"
   ]
  },
  {
   "cell_type": "code",
   "execution_count": 6,
   "id": "33740a30",
   "metadata": {
    "execution": {
     "iopub.execute_input": "2022-12-17T11:02:16.063191Z",
     "iopub.status.busy": "2022-12-17T11:02:16.062884Z",
     "iopub.status.idle": "2022-12-17T11:02:16.181367Z",
     "shell.execute_reply": "2022-12-17T11:02:16.180647Z"
    },
    "papermill": {
     "duration": 0.127463,
     "end_time": "2022-12-17T11:02:16.183450",
     "exception": false,
     "start_time": "2022-12-17T11:02:16.055987",
     "status": "completed"
    },
    "tags": []
   },
   "outputs": [],
   "source": [
    "df['review']=df['review'].str.lower()"
   ]
  },
  {
   "cell_type": "code",
   "execution_count": 7,
   "id": "f0d2b181",
   "metadata": {
    "execution": {
     "iopub.execute_input": "2022-12-17T11:02:16.198352Z",
     "iopub.status.busy": "2022-12-17T11:02:16.197990Z",
     "iopub.status.idle": "2022-12-17T11:02:16.205915Z",
     "shell.execute_reply": "2022-12-17T11:02:16.205052Z"
    },
    "papermill": {
     "duration": 0.018341,
     "end_time": "2022-12-17T11:02:16.207761",
     "exception": false,
     "start_time": "2022-12-17T11:02:16.189420",
     "status": "completed"
    },
    "tags": []
   },
   "outputs": [
    {
     "data": {
      "text/plain": [
       "0        one of the other reviewers has mentioned that ...\n",
       "1        a wonderful little production. <br /><br />the...\n",
       "2        i thought this was a wonderful way to spend ti...\n",
       "3        basically there's a family where a little boy ...\n",
       "4        petter mattei's \"love in the time of money\" is...\n",
       "                               ...                        \n",
       "49995    i thought this movie did a down right good job...\n",
       "49996    bad plot, bad dialogue, bad acting, idiotic di...\n",
       "49997    i am a catholic taught in parochial elementary...\n",
       "49998    i'm going to have to disagree with the previou...\n",
       "49999    no one expects the star trek movies to be high...\n",
       "Name: review, Length: 50000, dtype: object"
      ]
     },
     "execution_count": 7,
     "metadata": {},
     "output_type": "execute_result"
    }
   ],
   "source": [
    "df['review']"
   ]
  },
  {
   "cell_type": "markdown",
   "id": "c140e2d1",
   "metadata": {
    "papermill": {
     "duration": 0.005867,
     "end_time": "2022-12-17T11:02:16.219884",
     "exception": false,
     "start_time": "2022-12-17T11:02:16.214017",
     "status": "completed"
    },
    "tags": []
   },
   "source": [
    "# **Remove HTML Tags**"
   ]
  },
  {
   "cell_type": "code",
   "execution_count": 8,
   "id": "9d33c03c",
   "metadata": {
    "execution": {
     "iopub.execute_input": "2022-12-17T11:02:16.234087Z",
     "iopub.status.busy": "2022-12-17T11:02:16.233440Z",
     "iopub.status.idle": "2022-12-17T11:02:16.238027Z",
     "shell.execute_reply": "2022-12-17T11:02:16.237378Z"
    },
    "papermill": {
     "duration": 0.013741,
     "end_time": "2022-12-17T11:02:16.239815",
     "exception": false,
     "start_time": "2022-12-17T11:02:16.226074",
     "status": "completed"
    },
    "tags": []
   },
   "outputs": [],
   "source": [
    "import re\n",
    "\n",
    "def remove_html(text):\n",
    "    pattern=re.compile('<.*?>')\n",
    "    return pattern.sub('r',text)"
   ]
  },
  {
   "cell_type": "code",
   "execution_count": 9,
   "id": "cc53b653",
   "metadata": {
    "execution": {
     "iopub.execute_input": "2022-12-17T11:02:16.254222Z",
     "iopub.status.busy": "2022-12-17T11:02:16.253624Z",
     "iopub.status.idle": "2022-12-17T11:02:16.259446Z",
     "shell.execute_reply": "2022-12-17T11:02:16.258856Z"
    },
    "papermill": {
     "duration": 0.015161,
     "end_time": "2022-12-17T11:02:16.261275",
     "exception": false,
     "start_time": "2022-12-17T11:02:16.246114",
     "status": "completed"
    },
    "tags": []
   },
   "outputs": [
    {
     "data": {
      "text/plain": [
       "'petter mattei\\'s \"love in the time of money\" is a visually stunning film to watch. mr. mattei offers us a vivid portrait about human relations. this is a movie that seems to be telling us what money, power and success do to people in the different situations we encounter. rrthis being a variation on the arthur schnitzler\\'s play about the same theme, the director transfers the action to the present time new york where all these different characters meet and connect. each one is connected in one way, or another to the next person, but no one seems to know the previous point of contact. stylishly, the film has a sophisticated luxurious look. we are taken to see how these people live and the world they live in their own habitat.rrthe only thing one gets out of all these souls in the picture is the different stages of loneliness each one inhabits. a big city is not exactly the best place in which human relations find sincere fulfillment, as one discerns is the case with most of the people we encounter.rrthe acting is good under mr. mattei\\'s direction. steve buscemi, rosario dawson, carol kane, michael imperioli, adrian grenier, and the rest of the talented cast, make these characters come alive.rrwe wish mr. mattei good luck and await anxiously for his next work.'"
      ]
     },
     "execution_count": 9,
     "metadata": {},
     "output_type": "execute_result"
    }
   ],
   "source": [
    "text='petter mattei\\'s \"love in the time of money\" is a visually stunning film to watch. mr. mattei offers us a vivid portrait about human relations. this is a movie that seems to be telling us what money, power and success do to people in the different situations we encounter. <br /><br />this being a variation on the arthur schnitzler\\'s play about the same theme, the director transfers the action to the present time new york where all these different characters meet and connect. each one is connected in one way, or another to the next person, but no one seems to know the previous point of contact. stylishly, the film has a sophisticated luxurious look. we are taken to see how these people live and the world they live in their own habitat.<br /><br />the only thing one gets out of all these souls in the picture is the different stages of loneliness each one inhabits. a big city is not exactly the best place in which human relations find sincere fulfillment, as one discerns is the case with most of the people we encounter.<br /><br />the acting is good under mr. mattei\\'s direction. steve buscemi, rosario dawson, carol kane, michael imperioli, adrian grenier, and the rest of the talented cast, make these characters come alive.<br /><br />we wish mr. mattei good luck and await anxiously for his next work.'\n",
    "remove_html(text)"
   ]
  },
  {
   "cell_type": "code",
   "execution_count": 10,
   "id": "ebde1fc4",
   "metadata": {
    "execution": {
     "iopub.execute_input": "2022-12-17T11:02:16.276206Z",
     "iopub.status.busy": "2022-12-17T11:02:16.275226Z",
     "iopub.status.idle": "2022-12-17T11:02:16.421776Z",
     "shell.execute_reply": "2022-12-17T11:02:16.421039Z"
    },
    "papermill": {
     "duration": 0.156296,
     "end_time": "2022-12-17T11:02:16.423933",
     "exception": false,
     "start_time": "2022-12-17T11:02:16.267637",
     "status": "completed"
    },
    "tags": []
   },
   "outputs": [],
   "source": [
    "df['review']=df[\"review\"].apply(remove_html)"
   ]
  },
  {
   "cell_type": "code",
   "execution_count": 11,
   "id": "eb521222",
   "metadata": {
    "execution": {
     "iopub.execute_input": "2022-12-17T11:02:16.439197Z",
     "iopub.status.busy": "2022-12-17T11:02:16.438670Z",
     "iopub.status.idle": "2022-12-17T11:02:16.446697Z",
     "shell.execute_reply": "2022-12-17T11:02:16.445721Z"
    },
    "papermill": {
     "duration": 0.0191,
     "end_time": "2022-12-17T11:02:16.449260",
     "exception": false,
     "start_time": "2022-12-17T11:02:16.430160",
     "status": "completed"
    },
    "tags": []
   },
   "outputs": [
    {
     "data": {
      "text/plain": [
       "0        one of the other reviewers has mentioned that ...\n",
       "1        a wonderful little production. rrthe filming t...\n",
       "2        i thought this was a wonderful way to spend ti...\n",
       "3        basically there's a family where a little boy ...\n",
       "4        petter mattei's \"love in the time of money\" is...\n",
       "                               ...                        \n",
       "49995    i thought this movie did a down right good job...\n",
       "49996    bad plot, bad dialogue, bad acting, idiotic di...\n",
       "49997    i am a catholic taught in parochial elementary...\n",
       "49998    i'm going to have to disagree with the previou...\n",
       "49999    no one expects the star trek movies to be high...\n",
       "Name: review, Length: 50000, dtype: object"
      ]
     },
     "execution_count": 11,
     "metadata": {},
     "output_type": "execute_result"
    }
   ],
   "source": [
    "df['review']"
   ]
  },
  {
   "cell_type": "code",
   "execution_count": 12,
   "id": "23aded9e",
   "metadata": {
    "execution": {
     "iopub.execute_input": "2022-12-17T11:02:16.464910Z",
     "iopub.status.busy": "2022-12-17T11:02:16.464368Z",
     "iopub.status.idle": "2022-12-17T11:02:16.472005Z",
     "shell.execute_reply": "2022-12-17T11:02:16.470129Z"
    },
    "papermill": {
     "duration": 0.018139,
     "end_time": "2022-12-17T11:02:16.474264",
     "exception": false,
     "start_time": "2022-12-17T11:02:16.456125",
     "status": "completed"
    },
    "tags": []
   },
   "outputs": [
    {
     "name": "stdout",
     "output_type": "stream",
     "text": [
      "checkout new series https://realpython.com/python-keyerror/#:~:text=A%20Python%20KeyError%20exception%20is,set%20of%20values%20to%20another.\n",
      "Click to find reges https://regex101.com/\n",
      "Github Repository https://github.com/ashishpatel26/500-AI-Machine-learning-Deep-learning-Computer-vision-NLP-Projects-with-code\n"
     ]
    }
   ],
   "source": [
    "t1='checkout new series https://realpython.com/python-keyerror/#:~:text=A%20Python%20KeyError%20exception%20is,set%20of%20values%20to%20another.'\n",
    "t2='Click to find reges https://regex101.com/'\n",
    "t3='Github Repository https://github.com/ashishpatel26/500-AI-Machine-learning-Deep-learning-Computer-vision-NLP-Projects-with-code'\n",
    "\n",
    "print(t1)\n",
    "print(t2)\n",
    "print(t3)"
   ]
  },
  {
   "cell_type": "code",
   "execution_count": 13,
   "id": "16e4445e",
   "metadata": {
    "execution": {
     "iopub.execute_input": "2022-12-17T11:02:16.493587Z",
     "iopub.status.busy": "2022-12-17T11:02:16.491772Z",
     "iopub.status.idle": "2022-12-17T11:02:16.497456Z",
     "shell.execute_reply": "2022-12-17T11:02:16.496802Z"
    },
    "papermill": {
     "duration": 0.01565,
     "end_time": "2022-12-17T11:02:16.499437",
     "exception": false,
     "start_time": "2022-12-17T11:02:16.483787",
     "status": "completed"
    },
    "tags": []
   },
   "outputs": [],
   "source": [
    "def remove_url(text):\n",
    "    pattern=re.compile('https?://\\S+|www.\\.\\S+')\n",
    "    return pattern.sub(r'',text)"
   ]
  },
  {
   "cell_type": "code",
   "execution_count": 14,
   "id": "b2af86ed",
   "metadata": {
    "execution": {
     "iopub.execute_input": "2022-12-17T11:02:16.517615Z",
     "iopub.status.busy": "2022-12-17T11:02:16.516986Z",
     "iopub.status.idle": "2022-12-17T11:02:16.522380Z",
     "shell.execute_reply": "2022-12-17T11:02:16.521732Z"
    },
    "papermill": {
     "duration": 0.016011,
     "end_time": "2022-12-17T11:02:16.524172",
     "exception": false,
     "start_time": "2022-12-17T11:02:16.508161",
     "status": "completed"
    },
    "tags": []
   },
   "outputs": [
    {
     "data": {
      "text/plain": [
       "'checkout new series '"
      ]
     },
     "execution_count": 14,
     "metadata": {},
     "output_type": "execute_result"
    }
   ],
   "source": [
    "remove_url(t1)"
   ]
  },
  {
   "cell_type": "code",
   "execution_count": 15,
   "id": "4d3e1385",
   "metadata": {
    "execution": {
     "iopub.execute_input": "2022-12-17T11:02:16.539118Z",
     "iopub.status.busy": "2022-12-17T11:02:16.538710Z",
     "iopub.status.idle": "2022-12-17T11:02:16.546003Z",
     "shell.execute_reply": "2022-12-17T11:02:16.544845Z"
    },
    "papermill": {
     "duration": 0.017228,
     "end_time": "2022-12-17T11:02:16.548160",
     "exception": false,
     "start_time": "2022-12-17T11:02:16.530932",
     "status": "completed"
    },
    "tags": []
   },
   "outputs": [
    {
     "data": {
      "text/plain": [
       "'Click to find reges '"
      ]
     },
     "execution_count": 15,
     "metadata": {},
     "output_type": "execute_result"
    }
   ],
   "source": [
    "remove_url(t2)"
   ]
  },
  {
   "cell_type": "code",
   "execution_count": 16,
   "id": "387c188f",
   "metadata": {
    "execution": {
     "iopub.execute_input": "2022-12-17T11:02:16.563778Z",
     "iopub.status.busy": "2022-12-17T11:02:16.563373Z",
     "iopub.status.idle": "2022-12-17T11:02:16.569687Z",
     "shell.execute_reply": "2022-12-17T11:02:16.568745Z"
    },
    "papermill": {
     "duration": 0.01611,
     "end_time": "2022-12-17T11:02:16.571503",
     "exception": false,
     "start_time": "2022-12-17T11:02:16.555393",
     "status": "completed"
    },
    "tags": []
   },
   "outputs": [
    {
     "data": {
      "text/plain": [
       "'Github Repository '"
      ]
     },
     "execution_count": 16,
     "metadata": {},
     "output_type": "execute_result"
    }
   ],
   "source": [
    "remove_url(t3)"
   ]
  },
  {
   "cell_type": "markdown",
   "id": "e627f50a",
   "metadata": {
    "papermill": {
     "duration": 0.006723,
     "end_time": "2022-12-17T11:02:16.585308",
     "exception": false,
     "start_time": "2022-12-17T11:02:16.578585",
     "status": "completed"
    },
    "tags": []
   },
   "source": [
    "# **Remove Punctuation**"
   ]
  },
  {
   "cell_type": "code",
   "execution_count": 17,
   "id": "fe2a1af8",
   "metadata": {
    "execution": {
     "iopub.execute_input": "2022-12-17T11:02:16.603865Z",
     "iopub.status.busy": "2022-12-17T11:02:16.603245Z",
     "iopub.status.idle": "2022-12-17T11:02:16.608232Z",
     "shell.execute_reply": "2022-12-17T11:02:16.607613Z"
    },
    "papermill": {
     "duration": 0.015889,
     "end_time": "2022-12-17T11:02:16.609853",
     "exception": false,
     "start_time": "2022-12-17T11:02:16.593964",
     "status": "completed"
    },
    "tags": []
   },
   "outputs": [
    {
     "data": {
      "text/plain": [
       "'!\"#$%&\\'()*+,-./:;<=>?@[\\\\]^_`{|}~'"
      ]
     },
     "execution_count": 17,
     "metadata": {},
     "output_type": "execute_result"
    }
   ],
   "source": [
    "import string,time\n",
    "string.punctuation"
   ]
  },
  {
   "cell_type": "code",
   "execution_count": 18,
   "id": "d9df57ff",
   "metadata": {
    "execution": {
     "iopub.execute_input": "2022-12-17T11:02:16.628208Z",
     "iopub.status.busy": "2022-12-17T11:02:16.627831Z",
     "iopub.status.idle": "2022-12-17T11:02:16.632957Z",
     "shell.execute_reply": "2022-12-17T11:02:16.631850Z"
    },
    "papermill": {
     "duration": 0.017641,
     "end_time": "2022-12-17T11:02:16.635530",
     "exception": false,
     "start_time": "2022-12-17T11:02:16.617889",
     "status": "completed"
    },
    "tags": []
   },
   "outputs": [],
   "source": [
    "pnc=string.punctuation"
   ]
  },
  {
   "cell_type": "code",
   "execution_count": 19,
   "id": "6091005b",
   "metadata": {
    "execution": {
     "iopub.execute_input": "2022-12-17T11:02:16.653422Z",
     "iopub.status.busy": "2022-12-17T11:02:16.653047Z",
     "iopub.status.idle": "2022-12-17T11:02:16.656849Z",
     "shell.execute_reply": "2022-12-17T11:02:16.656207Z"
    },
    "papermill": {
     "duration": 0.015135,
     "end_time": "2022-12-17T11:02:16.658768",
     "exception": false,
     "start_time": "2022-12-17T11:02:16.643633",
     "status": "completed"
    },
    "tags": []
   },
   "outputs": [],
   "source": [
    "def remove_punc(text):\n",
    "    for char in pnc:\n",
    "        text=text.replace(char,' ')\n",
    "    return text"
   ]
  },
  {
   "cell_type": "code",
   "execution_count": 20,
   "id": "a5198237",
   "metadata": {
    "execution": {
     "iopub.execute_input": "2022-12-17T11:02:16.677451Z",
     "iopub.status.busy": "2022-12-17T11:02:16.676359Z",
     "iopub.status.idle": "2022-12-17T11:02:16.682255Z",
     "shell.execute_reply": "2022-12-17T11:02:16.680753Z"
    },
    "papermill": {
     "duration": 0.01866,
     "end_time": "2022-12-17T11:02:16.685756",
     "exception": false,
     "start_time": "2022-12-17T11:02:16.667096",
     "status": "completed"
    },
    "tags": []
   },
   "outputs": [
    {
     "name": "stdout",
     "output_type": "stream",
     "text": [
      "Ugh  Why are you yelling at me \n"
     ]
    }
   ],
   "source": [
    "text='Ugh! Why are you yelling at me?'\n",
    "print(remove_punc(text))"
   ]
  },
  {
   "cell_type": "code",
   "execution_count": 21,
   "id": "88360664",
   "metadata": {
    "execution": {
     "iopub.execute_input": "2022-12-17T11:02:16.702648Z",
     "iopub.status.busy": "2022-12-17T11:02:16.701954Z",
     "iopub.status.idle": "2022-12-17T11:02:16.707862Z",
     "shell.execute_reply": "2022-12-17T11:02:16.706229Z"
    },
    "papermill": {
     "duration": 0.016806,
     "end_time": "2022-12-17T11:02:16.710315",
     "exception": false,
     "start_time": "2022-12-17T11:02:16.693509",
     "status": "completed"
    },
    "tags": []
   },
   "outputs": [
    {
     "name": "stdout",
     "output_type": "stream",
     "text": [
      "Ugh  Why are you yelling at me \n"
     ]
    }
   ],
   "source": [
    "start=time.time() \n",
    "print(remove_punc(text))\n",
    "time1=time.time()-start"
   ]
  },
  {
   "cell_type": "code",
   "execution_count": 22,
   "id": "5d6ed6a6",
   "metadata": {
    "execution": {
     "iopub.execute_input": "2022-12-17T11:02:16.727376Z",
     "iopub.status.busy": "2022-12-17T11:02:16.726243Z",
     "iopub.status.idle": "2022-12-17T11:02:16.731586Z",
     "shell.execute_reply": "2022-12-17T11:02:16.730297Z"
    },
    "papermill": {
     "duration": 0.015759,
     "end_time": "2022-12-17T11:02:16.733652",
     "exception": false,
     "start_time": "2022-12-17T11:02:16.717893",
     "status": "completed"
    },
    "tags": []
   },
   "outputs": [
    {
     "name": "stdout",
     "output_type": "stream",
     "text": [
      "0.00014162063598632812\n"
     ]
    }
   ],
   "source": [
    "print(time1)"
   ]
  },
  {
   "cell_type": "code",
   "execution_count": null,
   "id": "05f0357d",
   "metadata": {
    "papermill": {
     "duration": 0.006776,
     "end_time": "2022-12-17T11:02:16.747675",
     "exception": false,
     "start_time": "2022-12-17T11:02:16.740899",
     "status": "completed"
    },
    "tags": []
   },
   "outputs": [],
   "source": []
  }
 ],
 "metadata": {
  "kernelspec": {
   "display_name": "Python 3",
   "language": "python",
   "name": "python3"
  },
  "language_info": {
   "codemirror_mode": {
    "name": "ipython",
    "version": 3
   },
   "file_extension": ".py",
   "mimetype": "text/x-python",
   "name": "python",
   "nbconvert_exporter": "python",
   "pygments_lexer": "ipython3",
   "version": "3.7.12"
  },
  "papermill": {
   "default_parameters": {},
   "duration": 10.238529,
   "end_time": "2022-12-17T11:02:17.375355",
   "environment_variables": {},
   "exception": null,
   "input_path": "__notebook__.ipynb",
   "output_path": "__notebook__.ipynb",
   "parameters": {},
   "start_time": "2022-12-17T11:02:07.136826",
   "version": "2.3.4"
  }
 },
 "nbformat": 4,
 "nbformat_minor": 5
}
